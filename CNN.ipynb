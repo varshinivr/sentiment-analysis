{
  "cells": [
    {
      "cell_type": "code",
      "execution_count": null,
      "metadata": {
        "id": "U6IW8_YyOgrT"
      },
      "outputs": [],
      "source": [
        "import pandas as pd\n",
        "from sklearn.model_selection import train_test_split\n",
        "from tensorflow.keras.preprocessing.text import Tokenizer\n",
        "from tensorflow.keras.preprocessing.sequence import pad_sequences\n",
        "from tensorflow.keras.models import Sequential\n",
        "from tensorflow.keras.layers import Embedding, Conv1D, MaxPooling1D, Flatten, Dense"
      ]
    },
    {
      "cell_type": "code",
      "execution_count": null,
      "metadata": {
        "id": "TImY3GdWRqWY"
      },
      "outputs": [],
      "source": [
        "df = pd.read_csv('sample_data/IMDB_Dataset.csv', encoding='ISO-8859-1')"
      ]
    },
    {
      "cell_type": "code",
      "execution_count": null,
      "metadata": {
        "id": "Mij_r29ujW5d"
      },
      "outputs": [],
      "source": [
        "df.columns = [\"review\", \"sentiment\"]"
      ]
    },
    {
      "cell_type": "code",
      "execution_count": null,
      "metadata": {
        "id": "KpaOygC_gXLf"
      },
      "outputs": [],
      "source": [
        "#df = pd.get_dummies(df, columns=[\"sentiment\"])\n",
        "df[\"sentiment\"]=pd.factorize(df[\"sentiment\"])[0].astype(int)"
      ]
    },
    {
      "cell_type": "code",
      "execution_count": null,
      "metadata": {
        "colab": {
          "base_uri": "https://localhost:8080/"
        },
        "id": "Txg0WU2dR7ue",
        "outputId": "98f6a7f6-37f1-4030-e40b-a0a5a6fc7555"
      },
      "outputs": [
        {
          "data": {
            "text/plain": [
              "0        0\n",
              "1        0\n",
              "2        0\n",
              "3        1\n",
              "4        0\n",
              "        ..\n",
              "49995    0\n",
              "49996    1\n",
              "49997    1\n",
              "49998    1\n",
              "49999    1\n",
              "Name: sentiment, Length: 50000, dtype: int64"
            ]
          },
          "execution_count": 8,
          "metadata": {},
          "output_type": "execute_result"
        }
      ],
      "source": [
        "y=df[\"sentiment\"]\n",
        "y"
      ]
    },
    {
      "cell_type": "code",
      "execution_count": null,
      "metadata": {
        "colab": {
          "base_uri": "https://localhost:8080/"
        },
        "id": "HwHKDbzJl3_m",
        "outputId": "f7c62b70-a70a-4e22-96a4-fdf3a9a00019"
      },
      "outputs": [
        {
          "data": {
            "text/plain": [
              "0        One of the other reviewers has mentioned that ...\n",
              "1        A wonderful little production. <br /><br />The...\n",
              "2        I thought this was a wonderful way to spend ti...\n",
              "3        Basically there's a family where a little boy ...\n",
              "4        Petter Mattei's \"Love in the Time of Money\" is...\n",
              "                               ...                        \n",
              "49995    I thought this movie did a down right good job...\n",
              "49996    Bad plot, bad dialogue, bad acting, idiotic di...\n",
              "49997    I am a Catholic taught in parochial elementary...\n",
              "49998    I'm going to have to disagree with the previou...\n",
              "49999    No one expects the Star Trek movies to be high...\n",
              "Name: review, Length: 50000, dtype: object"
            ]
          },
          "execution_count": 9,
          "metadata": {},
          "output_type": "execute_result"
        }
      ],
      "source": [
        "df[\"review\"]"
      ]
    },
    {
      "cell_type": "code",
      "execution_count": null,
      "metadata": {
        "colab": {
          "base_uri": "https://localhost:8080/"
        },
        "id": "5dwmXq3_R2Lv",
        "outputId": "ea8c5ed5-5f41-4c35-a4d3-e3c1bfe2e7e3"
      },
      "outputs": [
        {
          "data": {
            "text/plain": [
              "Index(['review', 'sentiment'], dtype='object')"
            ]
          },
          "execution_count": 10,
          "metadata": {},
          "output_type": "execute_result"
        }
      ],
      "source": [
        "columns=df.columns\n",
        "columns"
      ]
    },
    {
      "cell_type": "code",
      "execution_count": null,
      "metadata": {
        "colab": {
          "base_uri": "https://localhost:8080/"
        },
        "id": "RtZCrs8qSR_p",
        "outputId": "56bd35e3-b0a0-433b-c640-dc7b66c0c9a5"
      },
      "outputs": [
        {
          "name": "stdout",
          "output_type": "stream",
          "text": [
            "DF Train Shape:  (40000,)\n",
            "DF Test Shape:  (10000,)\n",
            "Y Train Shape:  (40000,)\n",
            "Y Test Shape:  (10000,)\n"
          ]
        }
      ],
      "source": [
        "from sklearn.model_selection import train_test_split\n",
        "df_train,df_test,y_train,y_test=train_test_split(df[\"review\"],y,test_size=0.20,random_state=42)\n",
        "print('DF Train Shape: ',df_train.shape)\n",
        "print('DF Test Shape: ',df_test.shape)\n",
        "print('Y Train Shape: ',y_train.shape)\n",
        "print('Y Test Shape: ',y_test.shape)"
      ]
    },
    {
      "cell_type": "code",
      "execution_count": null,
      "metadata": {
        "id": "3NoWXHSFScwx"
      },
      "outputs": [],
      "source": [
        "from tensorflow.keras.preprocessing.text import Tokenizer\n",
        "max_words=10000\n",
        "tokenizer=Tokenizer(max_words)\n",
        "tokenizer.fit_on_texts(df_train)\n",
        "sequence_train=tokenizer.texts_to_sequences(df_train)\n",
        "sequence_test=tokenizer.texts_to_sequences(df_test)"
      ]
    },
    {
      "cell_type": "code",
      "execution_count": null,
      "metadata": {
        "colab": {
          "base_uri": "https://localhost:8080/"
        },
        "id": "7ENDzZRmSjEI",
        "outputId": "1ceaec8c-ceeb-413b-9246-b28ec3bcb49d"
      },
      "outputs": [
        {
          "name": "stdout",
          "output_type": "stream",
          "text": [
            "Dataset has 112284 number of independent tokens\n"
          ]
        }
      ],
      "source": [
        "word2vec=tokenizer.word_index\n",
        "V=len(word2vec)\n",
        "print('Dataset has %s number of independent tokens' %V)"
      ]
    },
    {
      "cell_type": "code",
      "execution_count": null,
      "metadata": {
        "colab": {
          "base_uri": "https://localhost:8080/"
        },
        "id": "EDU1SgsBSmqb",
        "outputId": "764e1562-4b22-4845-baaa-91a1a207a8b5"
      },
      "outputs": [
        {
          "data": {
            "text/plain": [
              "(40000, 2210)"
            ]
          },
          "execution_count": 28,
          "metadata": {},
          "output_type": "execute_result"
        }
      ],
      "source": [
        "from tensorflow.keras.preprocessing.sequence import pad_sequences\n",
        "df_train=pad_sequences(sequence_train)\n",
        "df_train.shape"
      ]
    },
    {
      "cell_type": "code",
      "execution_count": null,
      "metadata": {
        "colab": {
          "base_uri": "https://localhost:8080/"
        },
        "id": "wCekz3tbSpTG",
        "outputId": "d0b4d1cb-1b7f-416e-c3a6-9c556bfd9574"
      },
      "outputs": [
        {
          "data": {
            "text/plain": [
              "(10000, 2210)"
            ]
          },
          "execution_count": 29,
          "metadata": {},
          "output_type": "execute_result"
        }
      ],
      "source": [
        "T=df_train.shape[1]\n",
        "df_test=pad_sequences(sequence_test,maxlen=T)\n",
        "df_test.shape"
      ]
    },
    {
      "cell_type": "code",
      "execution_count": null,
      "metadata": {
        "id": "LybrlEu3Ss9I"
      },
      "outputs": [],
      "source": [
        "from tensorflow.keras.layers import Input,Conv1D,MaxPooling1D,Dense,GlobalMaxPooling1D,Embedding\n",
        "from tensorflow.keras.models import Model\n",
        "from keras.layers.convolutional import Conv2D, MaxPooling2D\n",
        "from keras.models import Sequential\n",
        "from keras.layers import Dense, Activation, Flatten"
      ]
    },
    {
      "cell_type": "code",
      "execution_count": null,
      "metadata": {
        "colab": {
          "background_save": true,
          "base_uri": "https://localhost:8080/"
        },
        "id": "9uJ3xhyrSuKb",
        "outputId": "c79310ee-40b2-4fbd-9292-381b2cb49a29"
      },
      "outputs": [
        {
          "name": "stdout",
          "output_type": "stream",
          "text": [
            "Model: \"model_4\"\n",
            "_________________________________________________________________\n",
            " Layer (type)                Output Shape              Param #   \n",
            "=================================================================\n",
            " input_5 (InputLayer)        [(None, 2210)]            0         \n",
            "                                                                 \n",
            " embedding_4 (Embedding)     (None, 2210, 20)          2112040   \n",
            "                                                                 \n",
            " conv1d_12 (Conv1D)          (None, 2208, 64)          3904      \n",
            "                                                                 \n",
            " max_pooling1d_8 (MaxPooling  (None, 736, 64)          0         \n",
            " 1D)                                                             \n",
            "                                                                 \n",
            " dropout_2 (Dropout)         (None, 736, 64)           0         \n",
            "                                                                 \n",
            " conv1d_13 (Conv1D)          (None, 734, 128)          24704     \n",
            "                                                                 \n",
            " max_pooling1d_9 (MaxPooling  (None, 244, 128)         0         \n",
            " 1D)                                                             \n",
            "                                                                 \n",
            " global_max_pooling1d_4 (Glo  (None, 128)              0         \n",
            " balMaxPooling1D)                                                \n",
            "                                                                 \n",
            " dropout_3 (Dropout)         (None, 128)               0         \n",
            "                                                                 \n",
            " dense_4 (Dense)             (None, 64)                8256      \n",
            "                                                                 \n",
            " dropout_4 (Dropout)         (None, 64)                0         \n",
            "                                                                 \n",
            " dense_5 (Dense)             (None, 2)                 130       \n",
            "                                                                 \n",
            "=================================================================\n",
            "Total params: 2,149,034\n",
            "Trainable params: 2,149,034\n",
            "Non-trainable params: 0\n",
            "_________________________________________________________________\n",
            "Epoch 1/50\n",
            "313/313 [==============================] - 373s 1s/step - loss: 0.5049 - accuracy: 0.7204 - val_loss: 0.3291 - val_accuracy: 0.8616\n",
            "Epoch 2/50\n",
            "313/313 [==============================] - 377s 1s/step - loss: 0.2829 - accuracy: 0.8857 - val_loss: 0.3181 - val_accuracy: 0.8643\n",
            "Epoch 3/50\n",
            "313/313 [==============================] - 357s 1s/step - loss: 0.2137 - accuracy: 0.9179 - val_loss: 0.2794 - val_accuracy: 0.8857\n",
            "Epoch 4/50\n",
            "313/313 [==============================] - 361s 1s/step - loss: 0.1694 - accuracy: 0.9373 - val_loss: 0.2879 - val_accuracy: 0.8809\n",
            "Epoch 5/50\n",
            "313/313 [==============================] - 355s 1s/step - loss: 0.1354 - accuracy: 0.9509 - val_loss: 0.2979 - val_accuracy: 0.8783\n",
            "Epoch 6/50\n",
            "313/313 [==============================] - 355s 1s/step - loss: 0.1101 - accuracy: 0.9617 - val_loss: 0.3353 - val_accuracy: 0.8710\n",
            "313/313 [==============================] - 17s 53ms/step\n",
            "[[2.7675980e-01 7.2324014e-01]\n",
            " [9.5110714e-01 4.8892800e-02]\n",
            " [9.1129949e-04 9.9908864e-01]\n",
            " ...\n",
            " [8.8178009e-01 1.1821987e-01]\n",
            " [2.1171574e-01 7.8828430e-01]\n",
            " [9.6726537e-01 3.2734662e-02]]\n"
          ]
        },
        {
          "data": {
            "text/plain": [
              "array([1, 0, 1, ..., 0, 1, 0])"
            ]
          },
          "execution_count": 43,
          "metadata": {},
          "output_type": "execute_result"
        }
      ],
      "source": [
        "'''\n",
        "D=20\n",
        "i=Input((T,))\n",
        "x=Embedding(V+1,D)(i)\n",
        "x=Conv1D(32,3,activation='relu')(x)\n",
        "x=MaxPooling1D(3)(x)\n",
        "x=Conv1D(64,3,activation='relu')(x)\n",
        "x=MaxPooling1D(3)(x)\n",
        "x=Conv1D(128,3,activation='relu')(x)\n",
        "x=GlobalMaxPooling1D()(x)\n",
        "x=Dense(2,activation='softmax')(x)\n",
        "model=Model(i,x)\n",
        "model.summary()\n",
        "'''\n",
        "from tensorflow.keras.layers import Input, Embedding, Conv1D, MaxPooling1D, GlobalMaxPooling1D, Dense, Dropout\n",
        "from tensorflow.keras.models import Model\n",
        "from tensorflow.keras.callbacks import EarlyStopping\n",
        "\n",
        "D = 20\n",
        "T = 2210\n",
        "V = 105601\n",
        "\n",
        "# Define the model architecture\n",
        "i = Input((T,))\n",
        "x = Embedding(V + 1, D)(i)\n",
        "x = Conv1D(64, 3, activation='relu')(x)\n",
        "x = MaxPooling1D(3)(x)\n",
        "x = Dropout(0.3)(x)\n",
        "x = Conv1D(128, 3, activation='relu')(x)\n",
        "x = MaxPooling1D(3)(x)\n",
        "x = GlobalMaxPooling1D()(x)\n",
        "x = Dropout(0.3)(x)\n",
        "x = Dense(64, activation='relu')(x)\n",
        "x = Dropout(0.3)(x)\n",
        "x = Dense(2, activation='softmax')(x)\n",
        "model = Model(i, x)\n",
        "model.summary()\n",
        "\n",
        "# Compile the model\n",
        "model.compile(loss='sparse_categorical_crossentropy', optimizer='adam', metrics=['accuracy'])\n",
        "\n",
        "# Define early stopping callback\n",
        "early_stopping = EarlyStopping(patience=3)  # Stop training if the validation loss does not improve for 3 consecutive epochs\n",
        "\n",
        "# Train the model with early stopping\n",
        "history = model.fit(df_train, y_train, validation_data=(df_test, y_test), epochs=50, batch_size=128, callbacks=[early_stopping])\n",
        "y_pred = model.predict(df_test)\n",
        "print(y_pred)\n",
        "\n",
        "import numpy as np\n",
        "y_pred = np.argmax(y_pred, axis=1)\n",
        "y_pred\n",
        "\n"
      ]
    },
    {
      "cell_type": "code",
      "execution_count": null,
      "metadata": {
        "id": "gjbkaBQkUSfn"
      },
      "outputs": [],
      "source": [
        "from tensorflow.keras.optimizers.legacy import Adam"
      ]
    },
    {
      "cell_type": "code",
      "execution_count": null,
      "metadata": {
        "colab": {
          "base_uri": "https://localhost:8080/"
        },
        "id": "7ljZ-jhVVUv9",
        "outputId": "b39c7487-f97c-494a-f813-e76aae895277"
      },
      "outputs": [
        {
          "data": {
            "text/plain": [
              "<bound method DataFrame.info of                                                   review  sentiment\n",
              "0      One of the other reviewers has mentioned that ...          0\n",
              "1      A wonderful little production. <br /><br />The...          0\n",
              "2      I thought this was a wonderful way to spend ti...          0\n",
              "3      Basically there's a family where a little boy ...          1\n",
              "4      Petter Mattei's \"Love in the Time of Money\" is...          0\n",
              "...                                                  ...        ...\n",
              "49995  I thought this movie did a down right good job...          0\n",
              "49996  Bad plot, bad dialogue, bad acting, idiotic di...          1\n",
              "49997  I am a Catholic taught in parochial elementary...          1\n",
              "49998  I'm going to have to disagree with the previou...          1\n",
              "49999  No one expects the Star Trek movies to be high...          1\n",
              "\n",
              "[50000 rows x 2 columns]>"
            ]
          },
          "execution_count": 19,
          "metadata": {},
          "output_type": "execute_result"
        }
      ],
      "source": [
        "df.info"
      ]
    },
    {
      "cell_type": "code",
      "execution_count": null,
      "metadata": {
        "colab": {
          "base_uri": "https://localhost:8080/"
        },
        "id": "IojjqhVBonmd",
        "outputId": "6c7ac36b-9beb-436e-e2d3-42c9c8b545a5"
      },
      "outputs": [
        {
          "name": "stdout",
          "output_type": "stream",
          "text": [
            "313/313 [==============================] - 13s 40ms/step\n"
          ]
        },
        {
          "data": {
            "text/plain": [
              "array([[1.0459329e-02, 9.8954064e-01],\n",
              "       [9.6891493e-01, 3.1085124e-02],\n",
              "       [1.9538279e-03, 9.9804610e-01],\n",
              "       ...,\n",
              "       [7.5177151e-01, 2.4822836e-01],\n",
              "       [5.9407616e-01, 4.0592393e-01],\n",
              "       [9.9936050e-01, 6.3955405e-04]], dtype=float32)"
            ]
          },
          "execution_count": 40,
          "metadata": {},
          "output_type": "execute_result"
        }
      ],
      "source": [
        "y_pred=model.predict(df_test)\n",
        "y_pred"
      ]
    },
    {
      "cell_type": "code",
      "execution_count": null,
      "metadata": {
        "colab": {
          "base_uri": "https://localhost:8080/"
        },
        "id": "wPSXwZ-po68I",
        "outputId": "fb28182a-fe02-4e43-8f50-9b9c3978b68e"
      },
      "outputs": [
        {
          "data": {
            "text/plain": [
              "array([1, 0, 1, ..., 0, 0, 0])"
            ]
          },
          "execution_count": 41,
          "metadata": {},
          "output_type": "execute_result"
        }
      ],
      "source": [
        "import numpy as np\n",
        "y_pred=np.argmax(y_pred,axis=1)\n",
        "y_pred"
      ]
    },
    {
      "cell_type": "code",
      "execution_count": null,
      "metadata": {
        "colab": {
          "base_uri": "https://localhost:8080/"
        },
        "id": "lcouucqfpIJ4",
        "outputId": "e5b72334-72ae-43e4-9faf-0106491e76fb"
      },
      "outputs": [
        {
          "name": "stdout",
          "output_type": "stream",
          "text": [
            "              precision    recall  f1-score   support\n",
            "\n",
            "           0       0.90      0.84      0.87      5039\n",
            "           1       0.85      0.91      0.88      4961\n",
            "\n",
            "    accuracy                           0.87     10000\n",
            "   macro avg       0.88      0.88      0.87     10000\n",
            "weighted avg       0.88      0.87      0.87     10000\n",
            "\n",
            "0.8748\n"
          ]
        }
      ],
      "source": [
        "from sklearn import metrics\n",
        "from sklearn.metrics import confusion_matrix,classification_report,accuracy_score\n",
        "import seaborn as sns\n",
        "print(classification_report(y_test, y_pred))\n",
        "print(accuracy_score(y_test, y_pred))"
      ]
    },
    {
      "cell_type": "code",
      "execution_count": null,
      "metadata": {
        "id": "KdQpJo60pkSs"
      },
      "outputs": [],
      "source": [
        "from sklearn import metrics\n",
        "from sklearn.metrics import confusion_matrix,classification_report,accuracy_score\n",
        "import seaborn as sns"
      ]
    },
    {
      "cell_type": "code",
      "execution_count": null,
      "metadata": {
        "colab": {
          "base_uri": "https://localhost:8080/",
          "height": 489
        },
        "id": "KMB2u-Thpct4",
        "outputId": "7c9da5bb-c9be-409f-ed3b-6c5037083efc"
      },
      "outputs": [
        {
          "data": {
            "text/plain": [
              "Text(50.722222222222214, 0.5, 'Predicted')"
            ]
          },
          "execution_count": 37,
          "metadata": {},
          "output_type": "execute_result"
        },
        {
          "data": {
            "image/png": "[encoded data removed]",
            "text/plain": [
              "<Figure size 640x480 with 2 Axes>"
            ]
          },
          "metadata": {},
          "output_type": "display_data"
        }
      ],
      "source": [
        "cm=confusion_matrix(y_test,y_pred)\n",
        "ax=sns.heatmap(cm,annot=True,cmap='Blues',fmt=' ')\n",
        "ax.set_title('Confusion Matrix')\n",
        "ax.set_xlabel('Test')\n",
        "ax.set_ylabel('Predicted')"
      ]
    }
  ],
  "metadata": {
    "colab": {
      "provenance": []
    },
    "kernelspec": {
      "display_name": "Python 3",
      "name": "python3"
    },
    "language_info": {
      "name": "python"
    }
  },
  "nbformat": 4,
  "nbformat_minor": 0
}