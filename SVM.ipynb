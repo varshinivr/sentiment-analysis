{
  "nbformat": 4,
  "nbformat_minor": 0,
  "metadata": {
    "colab": {
      "provenance": []
    },
    "kernelspec": {
      "name": "python3",
      "display_name": "Python 3"
    },
    "language_info": {
      "name": "python"
    }
  },
  "cells": [
    {
      "cell_type": "code",
      "execution_count": null,
      "metadata": {
        "id": "hx3NAuYzcLd7"
      },
      "outputs": [],
      "source": [
        "import pandas as pd"
      ]
    },
    {
      "cell_type": "code",
      "source": [
        "df = pd.read_csv('sample_data/IMDB_Dataset.csv', encoding='ISO-8859-1')"
      ],
      "metadata": {
        "id": "_X5sONHMc8ah"
      },
      "execution_count": null,
      "outputs": []
    },
    {
      "cell_type": "code",
      "source": [
        "df.head"
      ],
      "metadata": {
        "colab": {
          "base_uri": "https://localhost:8080/"
        },
        "id": "UFeiM1h8n1ak",
        "outputId": "13f1605c-8b0e-4345-f507-1941422eb537"
      },
      "execution_count": null,
      "outputs": [
        {
          "output_type": "execute_result",
          "data": {
            "text/plain": [
              "<bound method NDFrame.head of                                                   review sentiment\n",
              "0      One of the other reviewers has mentioned that ...  positive\n",
              "1      A wonderful little production. <br /><br />The...  positive\n",
              "2      I thought this was a wonderful way to spend ti...  positive\n",
              "3      Basically there's a family where a little boy ...  negative\n",
              "4      Petter Mattei's \"Love in the Time of Money\" is...  positive\n",
              "...                                                  ...       ...\n",
              "49995  I thought this movie did a down right good job...  positive\n",
              "49996  Bad plot, bad dialogue, bad acting, idiotic di...  negative\n",
              "49997  I am a Catholic taught in parochial elementary...  negative\n",
              "49998  I'm going to have to disagree with the previou...  negative\n",
              "49999  No one expects the Star Trek movies to be high...  negative\n",
              "\n",
              "[50000 rows x 2 columns]>"
            ]
          },
          "metadata": {},
          "execution_count": 5
        }
      ]
    },
    {
      "cell_type": "code",
      "source": [
        "df = df.replace({\"sentiment\":  {\"positive\":1,\"negative\":0}})\n",
        "print(df)"
      ],
      "metadata": {
        "colab": {
          "base_uri": "https://localhost:8080/"
        },
        "id": "XGjPue6dn54l",
        "outputId": "145e5c37-f4be-423a-f066-36170fda4e52"
      },
      "execution_count": null,
      "outputs": [
        {
          "output_type": "stream",
          "name": "stdout",
          "text": [
            "                                                  review  sentiment\n",
            "0      One of the other reviewers has mentioned that ...          1\n",
            "1      A wonderful little production. <br /><br />The...          1\n",
            "2      I thought this was a wonderful way to spend ti...          1\n",
            "3      Basically there's a family where a little boy ...          0\n",
            "4      Petter Mattei's \"Love in the Time of Money\" is...          1\n",
            "...                                                  ...        ...\n",
            "49995  I thought this movie did a down right good job...          1\n",
            "49996  Bad plot, bad dialogue, bad acting, idiotic di...          0\n",
            "49997  I am a Catholic taught in parochial elementary...          0\n",
            "49998  I'm going to have to disagree with the previou...          0\n",
            "49999  No one expects the Star Trek movies to be high...          0\n",
            "\n",
            "[50000 rows x 2 columns]\n"
          ]
        }
      ]
    },
    {
      "cell_type": "code",
      "source": [
        "X=df[\"review\"]\n",
        "y =df[\"sentiment\"]\n",
        "\n",
        "from sklearn.model_selection import train_test_split\n",
        "X_train, X_test, y_train, y_test = train_test_split(X, y, test_size = 0.2, random_state = 0)"
      ],
      "metadata": {
        "id": "15vDpbWIoysR"
      },
      "execution_count": null,
      "outputs": []
    },
    {
      "cell_type": "code",
      "source": [
        "df['review']=df['review'].str.lower()\n",
        "df.head()"
      ],
      "metadata": {
        "colab": {
          "base_uri": "https://localhost:8080/",
          "height": 206
        },
        "id": "lCUDdUdRsNvt",
        "outputId": "9b074ae7-421b-4754-9b93-3445b88d1bc5"
      },
      "execution_count": null,
      "outputs": [
        {
          "output_type": "execute_result",
          "data": {
            "text/plain": [
              "                                              review  sentiment\n",
              "0  one of the other reviewers has mentioned that ...          1\n",
              "1  a wonderful little production. <br /><br />the...          1\n",
              "2  i thought this was a wonderful way to spend ti...          1\n",
              "3  basically there's a family where a little boy ...          0\n",
              "4  petter mattei's \"love in the time of money\" is...          1"
            ],
            "text/html": [
              "\n",
              "  <div id=\"df-b87b8960-aa52-4c30-a2f1-3eae3de9b4e2\">\n",
              "    <div class=\"colab-df-container\">\n",
              "      <div>\n",
              "<style scoped>\n",
              "    .dataframe tbody tr th:only-of-type {\n",
              "        vertical-align: middle;\n",
              "    }\n",
              "\n",
              "    .dataframe tbody tr th {\n",
              "        vertical-align: top;\n",
              "    }\n",
              "\n",
              "    .dataframe thead th {\n",
              "        text-align: right;\n",
              "    }\n",
              "</style>\n",
              "<table border=\"1\" class=\"dataframe\">\n",
              "  <thead>\n",
              "    <tr style=\"text-align: right;\">\n",
              "      <th></th>\n",
              "      <th>review</th>\n",
              "      <th>sentiment</th>\n",
              "    </tr>\n",
              "  </thead>\n",
              "  <tbody>\n",
              "    <tr>\n",
              "      <th>0</th>\n",
              "      <td>one of the other reviewers has mentioned that ...</td>\n",
              "      <td>1</td>\n",
              "    </tr>\n",
              "    <tr>\n",
              "      <th>1</th>\n",
              "      <td>a wonderful little production. &lt;br /&gt;&lt;br /&gt;the...</td>\n",
              "      <td>1</td>\n",
              "    </tr>\n",
              "    <tr>\n",
              "      <th>2</th>\n",
              "      <td>i thought this was a wonderful way to spend ti...</td>\n",
              "      <td>1</td>\n",
              "    </tr>\n",
              "    <tr>\n",
              "      <th>3</th>\n",
              "      <td>basically there's a family where a little boy ...</td>\n",
              "      <td>0</td>\n",
              "    </tr>\n",
              "    <tr>\n",
              "      <th>4</th>\n",
              "      <td>petter mattei's \"love in the time of money\" is...</td>\n",
              "      <td>1</td>\n",
              "    </tr>\n",
              "  </tbody>\n",
              "</table>\n",
              "</div>\n",
              "      <button class=\"colab-df-convert\" onclick=\"convertToInteractive('df-b87b8960-aa52-4c30-a2f1-3eae3de9b4e2')\"\n",
              "              title=\"Convert this dataframe to an interactive table.\"\n",
              "              style=\"display:none;\">\n",
              "        \n",
              "  <svg xmlns=\"http://www.w3.org/2000/svg\" height=\"24px\"viewBox=\"0 0 24 24\"\n",
              "       width=\"24px\">\n",
              "    <path d=\"M0 0h24v24H0V0z\" fill=\"none\"/>\n",
              "    <path d=\"M18.56 5.44l.94 2.06.94-2.06 2.06-.94-2.06-.94-.94-2.06-.94 2.06-2.06.94zm-11 1L8.5 8.5l.94-2.06 2.06-.94-2.06-.94L8.5 2.5l-.94 2.06-2.06.94zm10 10l.94 2.06.94-2.06 2.06-.94-2.06-.94-.94-2.06-.94 2.06-2.06.94z\"/><path d=\"M17.41 7.96l-1.37-1.37c-.4-.4-.92-.59-1.43-.59-.52 0-1.04.2-1.43.59L10.3 9.45l-7.72 7.72c-.78.78-.78 2.05 0 2.83L4 21.41c.39.39.9.59 1.41.59.51 0 1.02-.2 1.41-.59l7.78-7.78 2.81-2.81c.8-.78.8-2.07 0-2.86zM5.41 20L4 18.59l7.72-7.72 1.47 1.35L5.41 20z\"/>\n",
              "  </svg>\n",
              "      </button>\n",
              "      \n",
              "  <style>\n",
              "    .colab-df-container {\n",
              "      display:flex;\n",
              "      flex-wrap:wrap;\n",
              "      gap: 12px;\n",
              "    }\n",
              "\n",
              "    .colab-df-convert {\n",
              "      background-color: #E8F0FE;\n",
              "      border: none;\n",
              "      border-radius: 50%;\n",
              "      cursor: pointer;\n",
              "      display: none;\n",
              "      fill: #1967D2;\n",
              "      height: 32px;\n",
              "      padding: 0 0 0 0;\n",
              "      width: 32px;\n",
              "    }\n",
              "\n",
              "    .colab-df-convert:hover {\n",
              "      background-color: #E2EBFA;\n",
              "      box-shadow: 0px 1px 2px rgba(60, 64, 67, 0.3), 0px 1px 3px 1px rgba(60, 64, 67, 0.15);\n",
              "      fill: #174EA6;\n",
              "    }\n",
              "\n",
              "    [theme=dark] .colab-df-convert {\n",
              "      background-color: #3B4455;\n",
              "      fill: #D2E3FC;\n",
              "    }\n",
              "\n",
              "    [theme=dark] .colab-df-convert:hover {\n",
              "      background-color: #434B5C;\n",
              "      box-shadow: 0px 1px 3px 1px rgba(0, 0, 0, 0.15);\n",
              "      filter: drop-shadow(0px 1px 2px rgba(0, 0, 0, 0.3));\n",
              "      fill: #FFFFFF;\n",
              "    }\n",
              "  </style>\n",
              "\n",
              "      <script>\n",
              "        const buttonEl =\n",
              "          document.querySelector('#df-b87b8960-aa52-4c30-a2f1-3eae3de9b4e2 button.colab-df-convert');\n",
              "        buttonEl.style.display =\n",
              "          google.colab.kernel.accessAllowed ? 'block' : 'none';\n",
              "\n",
              "        async function convertToInteractive(key) {\n",
              "          const element = document.querySelector('#df-b87b8960-aa52-4c30-a2f1-3eae3de9b4e2');\n",
              "          const dataTable =\n",
              "            await google.colab.kernel.invokeFunction('convertToInteractive',\n",
              "                                                     [key], {});\n",
              "          if (!dataTable) return;\n",
              "\n",
              "          const docLinkHtml = 'Like what you see? Visit the ' +\n",
              "            '<a target=\"_blank\" href=https://colab.research.google.com/notebooks/data_table.ipynb>data table notebook</a>'\n",
              "            + ' to learn more about interactive tables.';\n",
              "          element.innerHTML = '';\n",
              "          dataTable['output_type'] = 'display_data';\n",
              "          await google.colab.output.renderOutput(dataTable, element);\n",
              "          const docLink = document.createElement('div');\n",
              "          docLink.innerHTML = docLinkHtml;\n",
              "          element.appendChild(docLink);\n",
              "        }\n",
              "      </script>\n",
              "    </div>\n",
              "  </div>\n",
              "  "
            ]
          },
          "metadata": {},
          "execution_count": 8
        }
      ]
    },
    {
      "cell_type": "code",
      "source": [
        "df['review'] = df['review'].str.replace(r'[^\\w\\s]+', '')\n",
        "print(df)"
      ],
      "metadata": {
        "colab": {
          "base_uri": "https://localhost:8080/"
        },
        "id": "RKLRAggKs5Ml",
        "outputId": "123665a8-e4be-4c62-8aa5-335d868fdc5b"
      },
      "execution_count": null,
      "outputs": [
        {
          "output_type": "stream",
          "name": "stderr",
          "text": [
            "<ipython-input-9-ae8c036ef489>:1: FutureWarning: The default value of regex will change from True to False in a future version.\n",
            "  df['review'] = df['review'].str.replace(r'[^\\w\\s]+', '')\n"
          ]
        },
        {
          "output_type": "stream",
          "name": "stdout",
          "text": [
            "                                                  review  sentiment\n",
            "0      one of the other reviewers has mentioned that ...          1\n",
            "1      a wonderful little production br br the filmin...          1\n",
            "2      i thought this was a wonderful way to spend ti...          1\n",
            "3      basically theres a family where a little boy j...          0\n",
            "4      petter matteis love in the time of money is a ...          1\n",
            "...                                                  ...        ...\n",
            "49995  i thought this movie did a down right good job...          1\n",
            "49996  bad plot bad dialogue bad acting idiotic direc...          0\n",
            "49997  i am a catholic taught in parochial elementary...          0\n",
            "49998  im going to have to disagree with the previous...          0\n",
            "49999  no one expects the star trek movies to be high...          0\n",
            "\n",
            "[50000 rows x 2 columns]\n"
          ]
        }
      ]
    },
    {
      "cell_type": "code",
      "source": [
        "!pip install nltk\n",
        "\n",
        "import nltk\n",
        "\n",
        "nltk.download('punkt')\n"
      ],
      "metadata": {
        "colab": {
          "base_uri": "https://localhost:8080/"
        },
        "id": "wbHGGnmRtgcq",
        "outputId": "d9cb74fe-2f48-473c-9d37-8a6c5a43457b"
      },
      "execution_count": null,
      "outputs": [
        {
          "output_type": "stream",
          "name": "stdout",
          "text": [
            "Looking in indexes: https://pypi.org/simple, https://us-python.pkg.dev/colab-wheels/public/simple/\n",
            "Requirement already satisfied: nltk in /usr/local/lib/python3.10/dist-packages (3.8.1)\n",
            "Requirement already satisfied: click in /usr/local/lib/python3.10/dist-packages (from nltk) (8.1.3)\n",
            "Requirement already satisfied: joblib in /usr/local/lib/python3.10/dist-packages (from nltk) (1.2.0)\n",
            "Requirement already satisfied: regex>=2021.8.3 in /usr/local/lib/python3.10/dist-packages (from nltk) (2022.10.31)\n",
            "Requirement already satisfied: tqdm in /usr/local/lib/python3.10/dist-packages (from nltk) (4.65.0)\n"
          ]
        },
        {
          "output_type": "stream",
          "name": "stderr",
          "text": [
            "[nltk_data] Downloading package punkt to /root/nltk_data...\n",
            "[nltk_data]   Package punkt is already up-to-date!\n"
          ]
        },
        {
          "output_type": "execute_result",
          "data": {
            "text/plain": [
              "True"
            ]
          },
          "metadata": {},
          "execution_count": 10
        }
      ]
    },
    {
      "cell_type": "code",
      "source": [
        "from nltk.tokenize import RegexpTokenizer\n",
        "tokenizer = RegexpTokenizer('\\s+', gaps = True)\n",
        "df['review'] = df['review'].apply(tokenizer.tokenize)\n",
        "df['review'].tail()"
      ],
      "metadata": {
        "colab": {
          "base_uri": "https://localhost:8080/"
        },
        "id": "Qksn69onuj3J",
        "outputId": "b057e29b-9bb7-4da7-c647-690014581004"
      },
      "execution_count": null,
      "outputs": [
        {
          "output_type": "execute_result",
          "data": {
            "text/plain": [
              "49995    [i, thought, this, movie, did, a, down, right,...\n",
              "49996    [bad, plot, bad, dialogue, bad, acting, idioti...\n",
              "49997    [i, am, a, catholic, taught, in, parochial, el...\n",
              "49998    [im, going, to, have, to, disagree, with, the,...\n",
              "49999    [no, one, expects, the, star, trek, movies, to...\n",
              "Name: review, dtype: object"
            ]
          },
          "metadata": {},
          "execution_count": 11
        }
      ]
    },
    {
      "cell_type": "code",
      "source": [
        "stopwordlist = ['a', 'about', 'above', 'after', 'again', 'ain', 'all', 'am', 'an',\n",
        "             'and','any','are', 'as', 'at', 'be', 'because', 'been', 'before',\n",
        "             'being', 'below', 'between','both', 'by', 'can', 'd', 'did', 'do',\n",
        "             'does', 'doing', 'down', 'during', 'each','few', 'for', 'from',\n",
        "             'further', 'had', 'has', 'have', 'having', 'he', 'her', 'here',\n",
        "             'hers', 'herself', 'him', 'himself', 'his', 'how', 'i', 'if', 'in',\n",
        "             'into','is','it', 'its', 'itself', 'just', 'll', 'm', 'ma',\n",
        "             'me', 'more', 'most','my', 'myself', 'now', 'o', 'of', 'on', 'once',\n",
        "             'only', 'or', 'other', 'our', 'ours','ourselves', 'out', 'own', 're','s', 'same', 'she', \"shes\", 'should', \"shouldve\",'so', 'some', 'such',\n",
        "             't', 'than', 'that', \"thatll\", 'the', 'their', 'theirs', 'them',\n",
        "             'themselves', 'then', 'there', 'these', 'they', 'this', 'those',\n",
        "             'through', 'to', 'too','under', 'until', 'up', 've', 'very', 'was',\n",
        "             'we', 'were', 'what', 'when', 'where','which','while', 'who', 'whom',\n",
        "             'why', 'will', 'with', 'won', 'y', 'you', \"youd\",\"youll\", \"youre\",\n",
        "             \"youve\", 'your', 'yours', 'yourself', 'yourselves']\n"
      ],
      "metadata": {
        "id": "0V5wY7-JuxM-"
      },
      "execution_count": null,
      "outputs": []
    },
    {
      "cell_type": "code",
      "source": [
        "STOPWORDS = set(stopwordlist)\n",
        "def cleaning_stopwords(text):\n",
        "    return \" \".join([word for word in str(text).split() if word not in STOPWORDS])\n",
        "df['review'] = df['review'].apply(lambda text: cleaning_stopwords(text))\n",
        "df['review'].head()"
      ],
      "metadata": {
        "colab": {
          "base_uri": "https://localhost:8080/"
        },
        "id": "Gql2-LMF0oKg",
        "outputId": "d27a5e35-6001-405e-f2d7-9dc034ccc36b"
      },
      "execution_count": null,
      "outputs": [
        {
          "output_type": "execute_result",
          "data": {
            "text/plain": [
              "0    ['one', 'of', 'the', 'other', 'reviewers', 'ha...\n",
              "1    ['a', 'wonderful', 'little', 'production', 'br...\n",
              "2    ['i', 'thought', 'this', 'was', 'a', 'wonderfu...\n",
              "3    ['basically', 'theres', 'a', 'family', 'where'...\n",
              "4    ['petter', 'matteis', 'love', 'in', 'the', 'ti...\n",
              "Name: review, dtype: object"
            ]
          },
          "metadata": {},
          "execution_count": 13
        }
      ]
    },
    {
      "cell_type": "code",
      "source": [
        "from nltk.stem.porter import PorterStemmer\n",
        "\n",
        "\n",
        "stemmer = PorterStemmer()\n",
        "def stem_words(text):\n",
        "    return \" \".join([stemmer.stem(word) for word in text.split()])\n",
        "\n",
        "df[\"review\"] = df[\"review\"].apply(lambda text: stem_words(text))\n",
        "df.head()"
      ],
      "metadata": {
        "colab": {
          "base_uri": "https://localhost:8080/",
          "height": 206
        },
        "id": "ChB1eajr0-mZ",
        "outputId": "435429c8-17dc-4d4d-be06-cb0d357cf75c"
      },
      "execution_count": null,
      "outputs": [
        {
          "output_type": "execute_result",
          "data": {
            "text/plain": [
              "                                              review  sentiment\n",
              "0  ['one', 'of', 'the', 'other', 'reviewers', 'ha...          1\n",
              "1  ['a', 'wonderful', 'little', 'production', 'br...          1\n",
              "2  ['i', 'thought', 'this', 'was', 'a', 'wonderfu...          1\n",
              "3  ['basically', 'theres', 'a', 'family', 'where'...          0\n",
              "4  ['petter', 'matteis', 'love', 'in', 'the', 'ti...          1"
            ],
            "text/html": [
              "\n",
              "  <div id=\"df-b84ed579-c4b7-4132-8de8-01a00364f437\">\n",
              "    <div class=\"colab-df-container\">\n",
              "      <div>\n",
              "<style scoped>\n",
              "    .dataframe tbody tr th:only-of-type {\n",
              "        vertical-align: middle;\n",
              "    }\n",
              "\n",
              "    .dataframe tbody tr th {\n",
              "        vertical-align: top;\n",
              "    }\n",
              "\n",
              "    .dataframe thead th {\n",
              "        text-align: right;\n",
              "    }\n",
              "</style>\n",
              "<table border=\"1\" class=\"dataframe\">\n",
              "  <thead>\n",
              "    <tr style=\"text-align: right;\">\n",
              "      <th></th>\n",
              "      <th>review</th>\n",
              "      <th>sentiment</th>\n",
              "    </tr>\n",
              "  </thead>\n",
              "  <tbody>\n",
              "    <tr>\n",
              "      <th>0</th>\n",
              "      <td>['one', 'of', 'the', 'other', 'reviewers', 'ha...</td>\n",
              "      <td>1</td>\n",
              "    </tr>\n",
              "    <tr>\n",
              "      <th>1</th>\n",
              "      <td>['a', 'wonderful', 'little', 'production', 'br...</td>\n",
              "      <td>1</td>\n",
              "    </tr>\n",
              "    <tr>\n",
              "      <th>2</th>\n",
              "      <td>['i', 'thought', 'this', 'was', 'a', 'wonderfu...</td>\n",
              "      <td>1</td>\n",
              "    </tr>\n",
              "    <tr>\n",
              "      <th>3</th>\n",
              "      <td>['basically', 'theres', 'a', 'family', 'where'...</td>\n",
              "      <td>0</td>\n",
              "    </tr>\n",
              "    <tr>\n",
              "      <th>4</th>\n",
              "      <td>['petter', 'matteis', 'love', 'in', 'the', 'ti...</td>\n",
              "      <td>1</td>\n",
              "    </tr>\n",
              "  </tbody>\n",
              "</table>\n",
              "</div>\n",
              "      <button class=\"colab-df-convert\" onclick=\"convertToInteractive('df-b84ed579-c4b7-4132-8de8-01a00364f437')\"\n",
              "              title=\"Convert this dataframe to an interactive table.\"\n",
              "              style=\"display:none;\">\n",
              "        \n",
              "  <svg xmlns=\"http://www.w3.org/2000/svg\" height=\"24px\"viewBox=\"0 0 24 24\"\n",
              "       width=\"24px\">\n",
              "    <path d=\"M0 0h24v24H0V0z\" fill=\"none\"/>\n",
              "    <path d=\"M18.56 5.44l.94 2.06.94-2.06 2.06-.94-2.06-.94-.94-2.06-.94 2.06-2.06.94zm-11 1L8.5 8.5l.94-2.06 2.06-.94-2.06-.94L8.5 2.5l-.94 2.06-2.06.94zm10 10l.94 2.06.94-2.06 2.06-.94-2.06-.94-.94-2.06-.94 2.06-2.06.94z\"/><path d=\"M17.41 7.96l-1.37-1.37c-.4-.4-.92-.59-1.43-.59-.52 0-1.04.2-1.43.59L10.3 9.45l-7.72 7.72c-.78.78-.78 2.05 0 2.83L4 21.41c.39.39.9.59 1.41.59.51 0 1.02-.2 1.41-.59l7.78-7.78 2.81-2.81c.8-.78.8-2.07 0-2.86zM5.41 20L4 18.59l7.72-7.72 1.47 1.35L5.41 20z\"/>\n",
              "  </svg>\n",
              "      </button>\n",
              "      \n",
              "  <style>\n",
              "    .colab-df-container {\n",
              "      display:flex;\n",
              "      flex-wrap:wrap;\n",
              "      gap: 12px;\n",
              "    }\n",
              "\n",
              "    .colab-df-convert {\n",
              "      background-color: #E8F0FE;\n",
              "      border: none;\n",
              "      border-radius: 50%;\n",
              "      cursor: pointer;\n",
              "      display: none;\n",
              "      fill: #1967D2;\n",
              "      height: 32px;\n",
              "      padding: 0 0 0 0;\n",
              "      width: 32px;\n",
              "    }\n",
              "\n",
              "    .colab-df-convert:hover {\n",
              "      background-color: #E2EBFA;\n",
              "      box-shadow: 0px 1px 2px rgba(60, 64, 67, 0.3), 0px 1px 3px 1px rgba(60, 64, 67, 0.15);\n",
              "      fill: #174EA6;\n",
              "    }\n",
              "\n",
              "    [theme=dark] .colab-df-convert {\n",
              "      background-color: #3B4455;\n",
              "      fill: #D2E3FC;\n",
              "    }\n",
              "\n",
              "    [theme=dark] .colab-df-convert:hover {\n",
              "      background-color: #434B5C;\n",
              "      box-shadow: 0px 1px 3px 1px rgba(0, 0, 0, 0.15);\n",
              "      filter: drop-shadow(0px 1px 2px rgba(0, 0, 0, 0.3));\n",
              "      fill: #FFFFFF;\n",
              "    }\n",
              "  </style>\n",
              "\n",
              "      <script>\n",
              "        const buttonEl =\n",
              "          document.querySelector('#df-b84ed579-c4b7-4132-8de8-01a00364f437 button.colab-df-convert');\n",
              "        buttonEl.style.display =\n",
              "          google.colab.kernel.accessAllowed ? 'block' : 'none';\n",
              "\n",
              "        async function convertToInteractive(key) {\n",
              "          const element = document.querySelector('#df-b84ed579-c4b7-4132-8de8-01a00364f437');\n",
              "          const dataTable =\n",
              "            await google.colab.kernel.invokeFunction('convertToInteractive',\n",
              "                                                     [key], {});\n",
              "          if (!dataTable) return;\n",
              "\n",
              "          const docLinkHtml = 'Like what you see? Visit the ' +\n",
              "            '<a target=\"_blank\" href=https://colab.research.google.com/notebooks/data_table.ipynb>data table notebook</a>'\n",
              "            + ' to learn more about interactive tables.';\n",
              "          element.innerHTML = '';\n",
              "          dataTable['output_type'] = 'display_data';\n",
              "          await google.colab.output.renderOutput(dataTable, element);\n",
              "          const docLink = document.createElement('div');\n",
              "          docLink.innerHTML = docLinkHtml;\n",
              "          element.appendChild(docLink);\n",
              "        }\n",
              "      </script>\n",
              "    </div>\n",
              "  </div>\n",
              "  "
            ]
          },
          "metadata": {},
          "execution_count": 14
        }
      ]
    },
    {
      "cell_type": "code",
      "source": [
        "import nltk\n",
        "nltk.download('wordnet')"
      ],
      "metadata": {
        "colab": {
          "base_uri": "https://localhost:8080/"
        },
        "id": "puBQQE8v31i2",
        "outputId": "a39a1f10-8344-4b78-985a-5a5b38605e5c"
      },
      "execution_count": null,
      "outputs": [
        {
          "output_type": "stream",
          "name": "stderr",
          "text": [
            "[nltk_data] Downloading package wordnet to /root/nltk_data...\n",
            "[nltk_data]   Package wordnet is already up-to-date!\n"
          ]
        },
        {
          "output_type": "execute_result",
          "data": {
            "text/plain": [
              "True"
            ]
          },
          "metadata": {},
          "execution_count": 15
        }
      ]
    },
    {
      "cell_type": "code",
      "source": [
        "import re\n",
        "def cleaning_repeating_char(text):\n",
        "    return re.sub(r'(.)1+', r'1', text)\n",
        "df['review'] = df['review'].apply(lambda x: cleaning_repeating_char(x))\n",
        "df['review'].tail()\n"
      ],
      "metadata": {
        "colab": {
          "base_uri": "https://localhost:8080/"
        },
        "id": "UGvt0lfawNKO",
        "outputId": "17b206a3-ca7a-4837-f5be-6180227d7e38"
      },
      "execution_count": null,
      "outputs": [
        {
          "output_type": "execute_result",
          "data": {
            "text/plain": [
              "49995    ['i', 'thought', 'this', 'movie', 'did', 'a', ...\n",
              "49996    ['bad', 'plot', 'bad', 'dialogue', 'bad', 'act...\n",
              "49997    ['i', 'am', 'a', 'catholic', 'taught', 'in', '...\n",
              "49998    ['im', 'going', 'to', 'have', 'to', 'disagree'...\n",
              "49999    ['no', 'one', 'expects', 'the', 'star', 'trek'...\n",
              "Name: review, dtype: object"
            ]
          },
          "metadata": {},
          "execution_count": 16
        }
      ]
    },
    {
      "cell_type": "code",
      "source": [
        "def cleaning_URLs(data):\n",
        "    return re.sub('((www.[^s]+)|(https?://[^s]+))',' ',data)\n",
        "df['review'] = df['review'].apply(lambda x: cleaning_URLs(x))\n",
        "df['review'].tail()"
      ],
      "metadata": {
        "colab": {
          "base_uri": "https://localhost:8080/"
        },
        "id": "7agjRHqvzBnG",
        "outputId": "04f77cd0-97e2-4d36-d084-8f0f7e0d355a"
      },
      "execution_count": null,
      "outputs": [
        {
          "output_type": "execute_result",
          "data": {
            "text/plain": [
              "49995    ['i', 'thought', 'this', 'movie', 'did', 'a', ...\n",
              "49996    ['bad', 'plot', 'bad', 'dialogue', 'bad', 'act...\n",
              "49997    ['i', 'am', 'a', 'catholic', 'taught', 'in', '...\n",
              "49998    ['im', 'going', 'to', 'have', 'to', 'disagree'...\n",
              "49999    ['no', 'one', 'expects', 'the', 'star', 'trek'...\n",
              "Name: review, dtype: object"
            ]
          },
          "metadata": {},
          "execution_count": 17
        }
      ]
    },
    {
      "cell_type": "code",
      "source": [
        "def cleaning_numbers(data):\n",
        "    return re.sub('[0-9]+', '', data)\n",
        "df['review'] = df['review'].apply(lambda x: cleaning_numbers(x))\n",
        "df['review'].tail()"
      ],
      "metadata": {
        "colab": {
          "base_uri": "https://localhost:8080/"
        },
        "id": "t2WkdgIFzVXZ",
        "outputId": "2af7c43e-3a74-489d-b647-a7aa0cb39358"
      },
      "execution_count": null,
      "outputs": [
        {
          "output_type": "execute_result",
          "data": {
            "text/plain": [
              "49995    ['i', 'thought', 'this', 'movie', 'did', 'a', ...\n",
              "49996    ['bad', 'plot', 'bad', 'dialogue', 'bad', 'act...\n",
              "49997    ['i', 'am', 'a', 'catholic', 'taught', 'in', '...\n",
              "49998    ['im', 'going', 'to', 'have', 'to', 'disagree'...\n",
              "49999    ['no', 'one', 'expects', 'the', 'star', 'trek'...\n",
              "Name: review, dtype: object"
            ]
          },
          "metadata": {},
          "execution_count": 18
        }
      ]
    },
    {
      "cell_type": "code",
      "source": [
        "from nltk.stem import WordNetLemmatizer\n",
        "\n",
        "lemmatizer = WordNetLemmatizer()\n",
        "def lemmatize_words(text):\n",
        "    return \" \".join([lemmatizer.lemmatize(word) for word in text.split()])\n",
        "\n",
        "df[\"review\"] = df[\"review\"].apply(lambda text: lemmatize_words(text))\n",
        "df.head()"
      ],
      "metadata": {
        "colab": {
          "base_uri": "https://localhost:8080/",
          "height": 206
        },
        "id": "9IoY79WT3Wcd",
        "outputId": "7be143c7-3dc3-43df-80e8-ee5271b0887a"
      },
      "execution_count": null,
      "outputs": [
        {
          "output_type": "execute_result",
          "data": {
            "text/plain": [
              "                                              review  sentiment\n",
              "0  ['one', 'of', 'the', 'other', 'reviewers', 'ha...          1\n",
              "1  ['a', 'wonderful', 'little', 'production', 'br...          1\n",
              "2  ['i', 'thought', 'this', 'was', 'a', 'wonderfu...          1\n",
              "3  ['basically', 'theres', 'a', 'family', 'where'...          0\n",
              "4  ['petter', 'matteis', 'love', 'in', 'the', 'ti...          1"
            ],
            "text/html": [
              "\n",
              "  <div id=\"df-963835e3-c6a5-4521-ac0e-ff925e1ee5bb\">\n",
              "    <div class=\"colab-df-container\">\n",
              "      <div>\n",
              "<style scoped>\n",
              "    .dataframe tbody tr th:only-of-type {\n",
              "        vertical-align: middle;\n",
              "    }\n",
              "\n",
              "    .dataframe tbody tr th {\n",
              "        vertical-align: top;\n",
              "    }\n",
              "\n",
              "    .dataframe thead th {\n",
              "        text-align: right;\n",
              "    }\n",
              "</style>\n",
              "<table border=\"1\" class=\"dataframe\">\n",
              "  <thead>\n",
              "    <tr style=\"text-align: right;\">\n",
              "      <th></th>\n",
              "      <th>review</th>\n",
              "      <th>sentiment</th>\n",
              "    </tr>\n",
              "  </thead>\n",
              "  <tbody>\n",
              "    <tr>\n",
              "      <th>0</th>\n",
              "      <td>['one', 'of', 'the', 'other', 'reviewers', 'ha...</td>\n",
              "      <td>1</td>\n",
              "    </tr>\n",
              "    <tr>\n",
              "      <th>1</th>\n",
              "      <td>['a', 'wonderful', 'little', 'production', 'br...</td>\n",
              "      <td>1</td>\n",
              "    </tr>\n",
              "    <tr>\n",
              "      <th>2</th>\n",
              "      <td>['i', 'thought', 'this', 'was', 'a', 'wonderfu...</td>\n",
              "      <td>1</td>\n",
              "    </tr>\n",
              "    <tr>\n",
              "      <th>3</th>\n",
              "      <td>['basically', 'theres', 'a', 'family', 'where'...</td>\n",
              "      <td>0</td>\n",
              "    </tr>\n",
              "    <tr>\n",
              "      <th>4</th>\n",
              "      <td>['petter', 'matteis', 'love', 'in', 'the', 'ti...</td>\n",
              "      <td>1</td>\n",
              "    </tr>\n",
              "  </tbody>\n",
              "</table>\n",
              "</div>\n",
              "      <button class=\"colab-df-convert\" onclick=\"convertToInteractive('df-963835e3-c6a5-4521-ac0e-ff925e1ee5bb')\"\n",
              "              title=\"Convert this dataframe to an interactive table.\"\n",
              "              style=\"display:none;\">\n",
              "        \n",
              "  <svg xmlns=\"http://www.w3.org/2000/svg\" height=\"24px\"viewBox=\"0 0 24 24\"\n",
              "       width=\"24px\">\n",
              "    <path d=\"M0 0h24v24H0V0z\" fill=\"none\"/>\n",
              "    <path d=\"M18.56 5.44l.94 2.06.94-2.06 2.06-.94-2.06-.94-.94-2.06-.94 2.06-2.06.94zm-11 1L8.5 8.5l.94-2.06 2.06-.94-2.06-.94L8.5 2.5l-.94 2.06-2.06.94zm10 10l.94 2.06.94-2.06 2.06-.94-2.06-.94-.94-2.06-.94 2.06-2.06.94z\"/><path d=\"M17.41 7.96l-1.37-1.37c-.4-.4-.92-.59-1.43-.59-.52 0-1.04.2-1.43.59L10.3 9.45l-7.72 7.72c-.78.78-.78 2.05 0 2.83L4 21.41c.39.39.9.59 1.41.59.51 0 1.02-.2 1.41-.59l7.78-7.78 2.81-2.81c.8-.78.8-2.07 0-2.86zM5.41 20L4 18.59l7.72-7.72 1.47 1.35L5.41 20z\"/>\n",
              "  </svg>\n",
              "      </button>\n",
              "      \n",
              "  <style>\n",
              "    .colab-df-container {\n",
              "      display:flex;\n",
              "      flex-wrap:wrap;\n",
              "      gap: 12px;\n",
              "    }\n",
              "\n",
              "    .colab-df-convert {\n",
              "      background-color: #E8F0FE;\n",
              "      border: none;\n",
              "      border-radius: 50%;\n",
              "      cursor: pointer;\n",
              "      display: none;\n",
              "      fill: #1967D2;\n",
              "      height: 32px;\n",
              "      padding: 0 0 0 0;\n",
              "      width: 32px;\n",
              "    }\n",
              "\n",
              "    .colab-df-convert:hover {\n",
              "      background-color: #E2EBFA;\n",
              "      box-shadow: 0px 1px 2px rgba(60, 64, 67, 0.3), 0px 1px 3px 1px rgba(60, 64, 67, 0.15);\n",
              "      fill: #174EA6;\n",
              "    }\n",
              "\n",
              "    [theme=dark] .colab-df-convert {\n",
              "      background-color: #3B4455;\n",
              "      fill: #D2E3FC;\n",
              "    }\n",
              "\n",
              "    [theme=dark] .colab-df-convert:hover {\n",
              "      background-color: #434B5C;\n",
              "      box-shadow: 0px 1px 3px 1px rgba(0, 0, 0, 0.15);\n",
              "      filter: drop-shadow(0px 1px 2px rgba(0, 0, 0, 0.3));\n",
              "      fill: #FFFFFF;\n",
              "    }\n",
              "  </style>\n",
              "\n",
              "      <script>\n",
              "        const buttonEl =\n",
              "          document.querySelector('#df-963835e3-c6a5-4521-ac0e-ff925e1ee5bb button.colab-df-convert');\n",
              "        buttonEl.style.display =\n",
              "          google.colab.kernel.accessAllowed ? 'block' : 'none';\n",
              "\n",
              "        async function convertToInteractive(key) {\n",
              "          const element = document.querySelector('#df-963835e3-c6a5-4521-ac0e-ff925e1ee5bb');\n",
              "          const dataTable =\n",
              "            await google.colab.kernel.invokeFunction('convertToInteractive',\n",
              "                                                     [key], {});\n",
              "          if (!dataTable) return;\n",
              "\n",
              "          const docLinkHtml = 'Like what you see? Visit the ' +\n",
              "            '<a target=\"_blank\" href=https://colab.research.google.com/notebooks/data_table.ipynb>data table notebook</a>'\n",
              "            + ' to learn more about interactive tables.';\n",
              "          element.innerHTML = '';\n",
              "          dataTable['output_type'] = 'display_data';\n",
              "          await google.colab.output.renderOutput(dataTable, element);\n",
              "          const docLink = document.createElement('div');\n",
              "          docLink.innerHTML = docLinkHtml;\n",
              "          element.appendChild(docLink);\n",
              "        }\n",
              "      </script>\n",
              "    </div>\n",
              "  </div>\n",
              "  "
            ]
          },
          "metadata": {},
          "execution_count": 19
        }
      ]
    },
    {
      "cell_type": "code",
      "source": [
        "from sklearn.feature_extraction.text import TfidfVectorizer\n",
        "Tfidf_vect = TfidfVectorizer(max_features=5000)\n",
        "Tfidf_vect.fit(df['review'])\n",
        "#Train_X_Tfidf = vectoriser.transform(X_train)\n",
        "#Test_X_Tfidf= vectoriser.transform(X_test)\n",
        "Train_X_Tfidf = Tfidf_vect.transform(X_train)\n",
        "Test_X_Tfidf = Tfidf_vect.transform(X_test)\n",
        "\n",
        "print(Tfidf_vect.vocabulary_)"
      ],
      "metadata": {
        "colab": {
          "base_uri": "https://localhost:8080/"
        },
        "id": "o-mWWa52fLlu",
        "outputId": "b7de237e-b85f-4ec1-9b12-7c6a31f14b31"
      },
      "execution_count": null,
      "outputs": [
        {
          "output_type": "stream",
          "name": "stdout",
          "text": [
            "{'one': 3062, 'of': 3038, 'the': 4402, 'other': 3092, 'reviewers': 3646, 'has': 1988, 'mentioned': 2753, 'that': 4399, 'after': 86, 'watching': 4807, 'just': 2382, 'oz': 3120, 'episode': 1451, 'youll': 4988, 'be': 359, 'hooked': 2103, 'they': 4420, 'are': 229, 'right': 3660, 'as': 255, 'this': 4435, 'is': 2303, 'exactly': 1496, 'what': 4853, 'happened': 1971, 'with': 4905, 'mebr': 2730, 'br': 503, 'first': 1678, 'thing': 4428, 'struck': 4204, 'me': 2720, 'about': 6, 'was': 4795, 'its': 2315, 'and': 169, 'scenes': 3781, 'violence': 4738, 'which': 4862, 'set': 3867, 'in': 2203, 'from': 1783, 'word': 4931, 'go': 1864, 'trust': 4587, 'not': 2991, 'show': 3924, 'for': 1726, 'or': 3082, 'pulls': 3426, 'no': 2967, 'to': 4488, 'drugs': 1317, 'sex': 3878, 'hardcore': 1978, 'classic': 781, 'use': 4683, 'it': 2310, 'called': 593, 'given': 1852, 'security': 3825, 'state': 4131, 'focuses': 1710, 'mainly': 2649, 'on': 3059, 'city': 771, 'an': 167, 'experimental': 1529, 'section': 3824, 'prison': 3365, 'where': 4859, 'all': 129, 'have': 1997, 'glass': 1856, 'face': 1560, 'so': 4012, 'high': 2047, 'em': 1396, 'home': 2093, 'irish': 2296, 'death': 1094, 'never': 2948, 'far': 1596, 'would': 4953, 'say': 3766, 'main': 2648, 'appeal': 215, 'due': 1325, 'fact': 1565, 'goes': 1869, 'shows': 3932, 'wouldnt': 4955, 'dare': 1068, 'forget': 1735, 'pretty': 3347, 'pictures': 3234, 'painted': 3135, 'mainstream': 2650, 'audiences': 293, 'charm': 713, 'doesnt': 1258, 'mess': 2760, 'around': 241, 'ever': 1483, 'saw': 3765, 'nasty': 2914, 'surreal': 4290, 'couldnt': 965, 'ready': 3510, 'but': 578, 'watched': 4805, 'more': 2844, 'developed': 1171, 'taste': 4340, 'got': 1883, 'levels': 2528, 'graphic': 1898, 'guards': 1931, 'sold': 4020, 'out': 3098, 'kill': 2413, 'order': 3083, 'get': 1839, 'away': 312, 'well': 4838, 'middle': 2776, 'class': 779, 'being': 390, 'turned': 4596, 'into': 2276, 'their': 4407, 'lack': 2448, 'street': 4189, 'skills': 3982, 'experience': 1525, 'you': 4985, 'may': 2717, 'become': 374, 'comfortable': 843, 'uncomfortable': 4625, 'if': 2169, 'can': 607, 'touch': 4515, 'your': 4991, 'darker': 1071, 'side': 3936, 'wonderful': 4922, 'little': 2566, 'production': 3382, 'filming': 1657, 'technique': 4357, 'very': 4714, 'fashion': 1602, 'gives': 1853, 'sometimes': 4035, 'sense': 3847, 'realism': 3513, 'entire': 1446, 'piece': 3236, 'actors': 44, 'extremely': 1556, 'chosen': 750, 'michael': 2772, 'sheen': 3896, 'only': 3068, 'he': 2001, 'voices': 4755, 'down': 1279, 'pat': 3167, 'too': 4504, 'truly': 4586, 'see': 3826, 'editing': 1364, 'by': 584, 'references': 3548, 'williams': 4883, 'worth': 4949, 'written': 4969, 'performed': 3193, 'masterful': 2702, 'great': 1904, 'masters': 2704, 'comedy': 840, 'his': 2065, 'life': 2534, 'really': 3521, 'comes': 841, 'things': 4429, 'fantasy': 1595, 'guard': 1930, 'rather': 3493, 'than': 4395, 'traditional': 4535, 'dream': 1298, 'techniques': 4358, 'remains': 3580, 'solid': 4025, 'then': 4413, 'disappears': 1220, 'plays': 3264, 'our': 3096, 'knowledge': 2436, 'senses': 3849, 'particularly': 3152, 'concerning': 887, 'sets': 3868, 'flat': 1690, 'every': 1484, 'surface': 4283, 'terribly': 4382, 'done': 1268, 'thought': 4441, 'way': 4814, 'spend': 4075, 'time': 4474, 'hot': 2123, 'summer': 4263, 'weekend': 4833, 'sitting': 3975, 'air': 107, 'theater': 4403, 'lighthearted': 2539, 'plot': 3272, 'simplistic': 3953, 'dialogue': 1181, 'witty': 4912, 'characters': 705, 'likable': 2542, 'even': 1478, 'serial': 3859, 'killer': 2415, 'while': 4863, 'some': 4029, 'disappointed': 1222, 'when': 4857, 'realize': 3516, 'match': 2705, 'point': 3279, 'risk': 3669, 'proof': 3397, 'woody': 4930, 'allen': 131, 'still': 4160, 'fully': 1792, 'control': 933, 'style': 4222, 'many': 2673, 'us': 4681, 'grown': 1925, 'most': 2850, 'id': 2159, 'laughed': 2478, 'at': 274, 'comedies': 839, 'years': 4977, 'decade': 1097, 'ive': 2317, 'been': 379, 'impressed': 2198, 'she': 3894, 'managed': 2663, 'tone': 4499, 'her': 2031, 'sexy': 3882, 'image': 2180, 'jumped': 2375, 'average': 305, 'young': 4989, 'career': 629, 'devil': 1176, 'wears': 4827, 'interesting': 2269, 'superman': 4274, 'friends': 1780, 'basically': 348, 'theres': 4418, 'family': 1588, 'boy': 500, 'jake': 2322, 'thinks': 4432, 'zombie': 4997, 'closet': 805, 'parents': 3145, 'fighting': 1647, 'timebr': 4475, 'movie': 2867, 'soap': 4013, 'opera': 3075, 'suddenly': 4246, 'decides': 1102, 'ok': 3054, 'youre': 4992, 'going': 1870, 'make': 2654, 'film': 1654, 'must': 2895, 'decide': 1100, 'thriller': 4452, 'drama': 1290, 'watchable': 4803, 'like': 2543, 'real': 3511, 'we': 4818, 'totally': 4514, 'ruins': 3716, 'expected': 1522, 'similar': 3948, 'instead': 2252, 'meaningless': 2724, 'playing': 3263, 'descent': 1143, 'dialogs': 1180, 'shots': 3921, 'ignore': 2171, 'them': 4408, 'love': 2610, 'money': 2830, 'visually': 4750, 'stunning': 4217, 'watch': 4802, 'mr': 2872, 'offers': 3046, 'vivid': 4752, 'portrait': 3299, 'human': 2137, 'relations': 3562, 'seems': 3834, 'telling': 4370, 'power': 3318, 'success': 4238, 'do': 1251, 'people': 3183, 'different': 1196, 'situations': 3977, 'encounter': 1410, 'arthur': 249, 'play': 3259, 'same': 3744, 'theme': 4410, 'director': 1212, 'action': 40, 'present': 3336, 'new': 2950, 'york': 4984, 'these': 4419, 'meet': 2735, 'connect': 899, 'each': 1339, 'connected': 900, 'another': 194, 'next': 2953, 'person': 3201, 'know': 2434, 'previous': 3350, 'contact': 917, 'sophisticated': 4043, 'look': 2589, 'taken': 4320, 'how': 2130, 'live': 2567, 'world': 4941, 'own': 3118, 'gets': 1840, 'souls': 4048, 'picture': 3233, 'loneliness': 2585, 'big': 419, 'best': 410, 'place': 3245, 'find': 1667, 'sincere': 3960, 'case': 650, 'acting': 39, 'good': 1875, 'under': 4627, 'direction': 1210, 'steve': 4153, 'carol': 637, 'kane': 2387, 'rest': 3626, 'talented': 4325, 'cast': 654, 'come': 835, 'wish': 4899, 'luck': 2623, 'work': 4934, 'probably': 3370, 'my': 2898, 'alltime': 136, 'favorite': 1614, 'story': 4177, 'sacrifice': 3732, 'noble': 2968, 'cause': 667, 'boring': 485, 'old': 3056, 'despite': 1160, 'having': 1999, 'seen': 3835, 'times': 4477, 'last': 2468, 'paul': 3175, 'performance': 3191, 'brings': 530, 'tears': 4354, 'eyes': 1558, 'bette': 412, 'davis': 1081, 'few': 1639, 'sympathetic': 4312, 'roles': 3691, 'delight': 1119, 'kids': 2412, 'says': 3768, 'children': 738, 'makes': 2657, 'fun': 1793, 'mothers': 2853, 'slow': 3998, 'whats': 4855, 'happening': 1972, 'believable': 394, 'had': 1949, 'dozen': 1282, 'thumbs': 4465, 'theyd': 4421, 'up': 4672, 'sure': 4281, 'dated': 1074, 'series': 3860, 'today': 4490, 'bring': 528, 'back': 319, 'kid': 2409, 'excitement': 1508, 'grew': 1913, 'black': 435, 'white': 4865, 'tv': 4600, 'were': 4844, 'vote': 4757, 'sea': 3808, 'need': 2935, 'change': 693, 'pace': 3121, 'water': 4808, 'thank': 4396, 'view': 4727, 'any': 200, 'believe': 395, 'wanna': 4778, 'nice': 2954, 'read': 3507, 'plus': 3275, 'points': 3282, 'lines': 2554, 'let': 2522, 'leave': 2500, 'doubt': 1276, 'lets': 2523, 'amazing': 154, 'fresh': 1776, 'innovative': 2240, 'idea': 2160, 'aired': 108, 'brilliant': 526, 'dropped': 1314, 'off': 3039, 'funny': 1797, 'anymore': 202, 'continued': 926, 'further': 1799, 'complete': 875, 'waste': 4799, 'fallen': 1581, 'writing': 4968, 'painfully': 3133, 'bad': 323, 'performances': 3192, 'almost': 137, 'mildly': 2783, 'entertaining': 1443, 'hard': 1977, 'original': 3087, 'also': 143, 'chose': 749, 'band': 332, 'followed': 1715, 'recognize': 3534, 'such': 4241, 'brilliance': 525, 'fit': 1681, 'replace': 3602, 'felt': 1634, 'give': 1851, 'stars': 4126, 'respect': 3621, 'made': 2638, 'huge': 2134, 'now': 3006, 'awful': 314, 'cant': 615, 'positive': 3306, 'comments': 853, 'here': 2033, 'looking': 2591, 'forward': 1749, 'mistake': 2813, 'films': 1661, 'worst': 4948, 'pacing': 3123, 'storyline': 4179, 'soundtrack': 4053, 'song': 4039, 'lame': 2456, 'country': 970, 'tune': 4591, 'played': 3260, 'less': 2518, 'four': 1754, 'looks': 2592, 'cheap': 720, 'extreme': 1555, 'rarely': 3488, 'happy': 1976, 'end': 1412, 'credits': 1006, 'giving': 1854, 'score': 3792, 'harvey': 1987, 'least': 2499, 'making': 2659, 'bit': 430, 'effort': 1375, 'laughter': 2481, 'will': 4881, 'hell': 2024, 'mom': 2827, 'liked': 2544, 'itbr': 2313, 'camp': 604, 'phil': 3213, 'alien': 125, 'those': 4439, 'quirky': 3459, 'humour': 2143, 'based': 345, 'everything': 1489, 'actual': 48, 'odd': 3035, 'didnt': 1189, 'jokes': 2359, 'low': 2617, 'budget': 552, 'thats': 4401, 'problem': 3371, 'itself': 2316, 'there': 4415, 'eventually': 1482, 'lost': 2602, 'imagine': 2185, 'who': 4866, 'currently': 1041, 'something': 4034, 'better': 413, 'try': 4589, 'brother': 540, 'planet': 3252, 'came': 597, 'recall': 3527, 'scene': 3778, 'bird': 426, 'eating': 1355, 'men': 2747, 'horror': 2117, 'cheesy': 727, 'saturday': 3759, 'tired': 4482, 'formula': 1744, 'monster': 2833, 'type': 4612, 'movies': 2869, 'usually': 4691, 'included': 2209, 'hero': 2036, 'beautiful': 368, 'woman': 4915, 'might': 2779, 'daughter': 1076, 'professor': 3385, 'resolution': 3618, 'died': 1191, 'care': 627, 'much': 2877, 'romantic': 3697, 'angle': 180, 'year': 4975, 'predictable': 3327, 'plots': 3274, 'unintentional': 4650, 'later': 2472, 'psycho': 3419, 'loved': 2611, 'star': 4121, 'leigh': 2511, 'early': 1342, 'sat': 3753, 'took': 4506, 'notice': 3000, 'since': 3959, 'scary': 3776, 'possible': 3310, 'rules': 3718, 'im': 2179, 'fan': 1591, 'again': 89, 'enjoyed': 1431, 'maybe': 2718, 'boll': 471, 'apparently': 214, 'bought': 495, 'rights': 3661, 'cry': 1029, 'long': 2587, 'ago': 98, 'before': 381, 'game': 1807, 'killing': 2417, 'secret': 3820, 'research': 3614, 'island': 2305, 'should': 3922, 'warned': 4789, 'together': 4493, 'along': 139, 'feeling': 1627, 'three': 4449, 'players': 3262, 'names': 2909, 'actually': 49, 'tale': 4323, 'jack': 2318, 'yes': 4981, 'german': 1836, 'however': 2132, 'hes': 2041, 'staying': 4140, 'true': 4585, 'whole': 4868, 'perspective': 3208, 'dont': 1269, 'looked': 2590, 'kicking': 2407, 'beyond': 417, 'evil': 1493, 'mad': 2637, 'scientist': 3788, 'dr': 1284, 'performing': 3196, 'reminds': 3588, 'spoiler': 4091, 'reason': 3522, 'trees': 4563, 'rich': 3652, 'havent': 1998, 'gone': 1873, 'started': 4128, 'cannot': 614, 'stay': 4138, 'delivers': 1124, 'meaning': 2722, 'mentioning': 2754, 'did': 1188, 'areas': 231, 'boat': 465, 'until': 4669, 'squad': 4105, 'enters': 1440, 'laugh': 2475, 'take': 4319, 'ahead': 103, 'annoying': 193, 'sidekick': 3937, 'shoot': 3913, 'him': 2057, 'minutes': 2802, 'screen': 3799, 'shakespeare': 3886, 'appreciate': 223, 'trying': 4590, 'masses': 2699, 'why': 4872, 'ruin': 3714, 'goodbr': 1876, 'because': 373, 'scottish': 3795, 'certain': 680, 'hence': 2029, 'tried': 4572, 'words': 4932, 'improve': 2201, 'write': 4963, 'ten': 4373, 'text': 4393, 'english': 1428, 'keep': 2393, 'saying': 3767, 'does': 1257, 'cut': 1046, 'fantastic': 1594, 'prisoners': 3367, 'famous': 1590, 'george': 1835, 'roll': 3692, 'man': 2661, 'constant': 913, 'everybody': 1485, 'kind': 2421, 'drawn': 1295, 'erotic': 1460, 'amateurish': 152, 'unbelievable': 4622, 'bits': 432, 'sort': 4045, 'school': 3784, 'project': 3390, 'thinking': 4431, 'stock': 4164, 'bizarre': 434, 'supposed': 4279, 'town': 4524, 'involved': 2291, 'lessons': 2521, 'learned': 2496, 'stilted': 4161, 'quite': 3461, 'ridiculous': 3657, 'lots': 2604, 'skin': 3983, 'relationship': 3563, 'nowhere': 3009, 'encounters': 1411, 'absurd': 13, 'dance': 1059, 'pass': 3158, 'million': 2788, 'miles': 2785, 'wasted': 4800, 'could': 964, 'spent': 4078, 'africa': 84, 'simply': 3954, 'fails': 1572, 'capture': 619, 'terror': 4386, 'title': 4485, 'excellent': 1500, 'always': 148, 'holds': 2081, 'exception': 1502, 'owen': 3117, 'wilson': 4886, 'feel': 1626, 'character': 702, 'luke': 2629, 'major': 2652, 'fault': 1611, 'version': 4711, 'shirley': 3907, 'jackson': 2320, 'attempts': 285, 'thrill': 4451, 'earlier': 1341, 'trade': 4532, 'special': 4067, 'effects': 1374, 'enjoy': 1429, 'older': 3057, 'top': 4507, 'horrible': 2112, 'wasnt': 4798, 'minute': 2801, 'fight': 1645, 'chance': 691, 'development': 1173, 'busy': 577, 'running': 3721, 'sword': 4310, 'emotional': 1403, 'except': 1501, 'machine': 2634, 'wanted': 4781, 'destroy': 1162, 'stolen': 4166, 'wars': 4794, 'matrix': 2709, 'ghost': 1842, 'final': 1663, 'beginning': 384, 'attacked': 280, 'return': 3633, 'kings': 2426, 'wood': 4927, 'victim': 4720, 'both': 490, 'vs': 4759, 'humans': 2139, 'examples': 1499, 'someone': 4032, 'tell': 4369, 'nazis': 2925, 'juvenile': 2386, 'line': 2553, 'rushed': 3725, 'conclusion': 890, 'childrens': 739, 'adult': 66, 'either': 1381, 'disappointment': 1224, 'save': 3761, 'remember': 3584, 'cinema': 760, 'dark': 1070, 'places': 3247, 'nervous': 2946, 'dad': 1052, 'sister': 3969, 'england': 1427, 'snow': 4011, 'appearance': 218, 'adams': 52, 'actor': 43, 'dan': 1058, 'think': 4430, 'shot': 3920, 'dies': 1193, 'anyone': 203, 'knows': 2438, 'dvd': 1334, 'etc': 1472, 'please': 3267, 'club': 811, 'shame': 3889, 'hear': 2007, 'others': 3093, 'against': 91, 'nominated': 2972, 'golden': 1872, 'theyve': 4424, 'female': 1635, 'recognition': 3533, 'complaint': 874, 'facts': 1568, 'perfectly': 3189, 'fine': 1670, 'artist': 251, 'script': 3805, 'suppose': 4278, 'werent': 4845, 'enough': 1436, 'naked': 2905, 'summary': 4262, 'artists': 253, 'saved': 3762, 'ourselves': 3097, 'couple': 972, 'hours': 2126, 'die': 1190, 'sequels': 3856, 'surprise': 4285, 'wrong': 4970, 'guy': 1945, 'concept': 884, 'mountain': 2858, 'rescue': 3613, 'stop': 4171, 'especially': 1465, 'expert': 1531, 'facial': 1563, 'expressions': 1549, 'full': 1791, 'pile': 3238, 'junk': 2381, 'horse': 2119, 'nonsense': 2978, 'lovable': 2609, 'plenty': 3270, 'thrills': 4455, 'unintentionally': 4651, 'youve': 4995, 'john': 2353, 'box': 498, 'agent': 94, 'henry': 2030, 'hal': 1952, 'constantly': 914, 'painful': 3132, 'disbelief': 1226, 'hurt': 2151, 'anybody': 201, 'whilst': 4864, 'surely': 4282, 'ralph': 3476, 'frank': 1763, 'girl': 1848, 'mention': 2752, 'former': 1742, 'burning': 569, 'craig': 986, 'using': 4689, 'football': 1725, 'help': 2025, 'needed': 2936, 'cares': 633, 'happen': 1970, 'lower': 2619, 'expectations': 1521, 'turn': 4595, 'wearing': 4826, 'helicopter': 2023, 'terrible': 4381, 'bmovie': 462, 'shouldnt': 3923, 'aspects': 265, 'sequences': 3858, 'fake': 1579, 'packed': 3127, 'crappy': 988, 'oneliners': 3065, 'amusing': 165, 'towards': 4523, 'women': 4917, 'utterly': 4693, 'appear': 217, 'weird': 4836, 'costumes': 963, 'fail': 1569, 'laughs': 2480, 'absolutely': 12, 'wont': 4926, 'regret': 3557, 'carries': 643, 'although': 146, 'isnt': 2306, 'anything': 204, 'music': 2891, 'takes': 4321, 'grow': 1923, 'heard': 2008, 'start': 4127, 'liking': 2548, 'straight': 4181, 'am': 149, 'anime': 187, 'matter': 2711, 'used': 4684, 'speed': 4073, 'several': 3875, 'theyre': 4423, 'hilarious': 2053, 'moving': 2871, 'usual': 4690, 'fx': 1803, 'sudden': 4245, 'worse': 4947, 'bunch': 565, 'run': 3719, 'over': 3106, 'dinosaurs': 1205, 'addition': 59, 'transition': 4547, 'animation': 186, 'viewed': 4728, 'horrid': 2114, 'tape': 4335, 'vhs': 4716, 'player': 3261, 'kept': 2401, 'surviving': 4296, 'robots': 3683, 'mstk': 2875, 'pick': 3229, 'season': 3813, 'honestly': 2097, 'barely': 340, 'survive': 4294, 'heck': 2018, 'planning': 3254, 'fellow': 1633, 'mine': 2794, 'halloween': 1956, 'night': 2960, 'stupid': 4220, 'originally': 3089, 'according': 29, 'scale': 3770, 'means': 2725, 'unless': 4661, 'received': 3529, 'amount': 163, 'afterwards': 88, 'known': 2437, 'shes': 3901, 'actress': 45, 'part': 3150, 'allowed': 133, 'judge': 2369, 'therefore': 4417, 'bore': 482, 'depth': 1140, 'nor': 2982, 'cop': 947, 'feels': 1629, 'karen': 2389, 'carpenter': 638, 'singer': 3962, 'complex': 877, 'though': 4440, 'accurate': 31, 'portrays': 3304, 'naive': 2904, 'dumb': 1328, 'role': 3690, 'stronger': 4202, 'terrific': 4383, 'job': 2349, 'songs': 4040, 'album': 117, 'unfortunately': 4646, 'ratings': 3495, 'usa': 4682, 'countries': 969, 'cell': 674, 'exotic': 1519, 'masterpiece': 2703, 'trip': 4576, 'vast': 4706, 'mind': 2791, 'evidence': 1491, 'achieved': 34, 'beings': 391, 'pushing': 3444, 'aside': 258, 'thoughts': 4444, 'fall': 1580, 'creating': 996, 'magnificent': 2647, 'numerous': 3015, 'anywhere': 207, 'substance': 4231, 'poorly': 3289, 'miss': 2808, 'tradition': 4534, 'future': 1801, 'hopefully': 2106, 'follow': 1714, 'opened': 3072, 'door': 1272, 'imagination': 2183, 'want': 4780, 'personally': 3206, 'welcome': 4837, 'challenge': 687, 'himbr': 2058, 'weve': 4852, 'talk': 4328, 'inside': 2242, 'agree': 99, 'genre': 1829, 'killers': 2416, 'worked': 4936, 'failed': 1570, 'trail': 4539, 'twist': 4607, 'physically': 3227, 'presented': 3338, 'nothing': 2999, 'fascinating': 1601, 'journey': 2366, 'mysterious': 2902, 'subject': 4226, 'scientific': 3787, 'explain': 1532, 'jennifer': 2336, 'enter': 1438, 'brain': 505, 'lies': 2533, 'table': 4316, 'wrapped': 4960, 'wants': 4783, 'guess': 1932, 'onto': 3070, 'ground': 1920, 'inbr': 2206, 'noticed': 3001, 'showed': 3928, 'reality': 3515, 'contrast': 931, 'bright': 524, 'visuals': 4751, 'nonetheless': 2976, 'design': 1152, 'astonishing': 273, 'surprised': 4286, 'oscars': 3091, 'cinematography': 764, 'myself': 2900, 'else': 1393, 'stress': 4193, 'walk': 4767, 'open': 3071, 'wonders': 4925, 'feast': 1620, 'crazy': 991, 'leaving': 2502, 'audience': 292, 'member': 2742, 'whoever': 4867, 'lot': 2603, 'once': 3061, 'political': 3284, 'satire': 3755, 'hollywood': 2087, 'blockbuster': 451, 'sappy': 3751, 'values': 4700, 'list': 2559, 'miserably': 2806, 'interest': 2267, 'turning': 4598, 'endbr': 1413, 'spirit': 4082, 'behind': 389, 'war': 4784, 'clumsy': 814, 'reflect': 3549, 'existence': 1517, 'serious': 3861, 'poor': 3288, 'particular': 3151, 'filmbr': 1655, 'similarly': 3950, 'genuine': 1833, 'concern': 885, 'frustrating': 1787, 'seemed': 3832, 'prepared': 3334, 'able': 5, 'stand': 4113, 'americas': 160, 'funniest': 1796, 'videos': 4725, 'damn': 1056, 'hated': 1992, 'stereotypical': 4152, 'speak': 4064, 'responsible': 3625, 'hanging': 1968, 'dancing': 1063, 'clichãd': 792, 'overthetop': 3115, 'seem': 3831, 'conflict': 894, 'dealing': 1089, 'combat': 831, 'compelling': 869, 'silver': 3947, 'civil': 772, 'cold': 820, 'starring': 4125, 'law': 2484, 'nicole': 2959, 'calling': 594, 'entirely': 1447, 'opens': 3074, 'literally': 2564, 'battle': 355, 'sequence': 3857, 'puts': 3446, 'glory': 1862, 'edward': 1369, 'period': 3199, 'centers': 677, 'soldier': 4021, 'becomes': 375, 'gruesome': 1928, 'hamlet': 1958, 'north': 2987, 'equally': 1454, 'southern': 4056, 'left': 2505, 'setup': 3872, 'appears': 222, 'formulaic': 1745, 'sympathy': 4313, 'root': 3701, 'soldiers': 4022, 'indeed': 2218, 'segments': 3839, 'relatively': 3566, 'somewhat': 4036, 'soon': 4042, 'turns': 4599, 'saving': 3764, 'potentially': 3315, 'confusing': 897, 'scenario': 3777, 'wanting': 4782, 'begins': 385, 'meanwhile': 2727, 'farm': 1599, 'ways': 4817, 'prove': 3408, 'fields': 1643, 'coming': 847, 'course': 975, 'helps': 2028, 'put': 3445, 'perhaps': 3198, 'importantly': 2195, 'brought': 542, 'upon': 4675, 'within': 4907, 'two': 4610, 'settings': 3870, 'disturbing': 1249, 'south': 4055, 'unfolds': 4643, 'whom': 4869, 'surprisingly': 4289, 'father': 1609, 'ray': 3497, 'natalie': 2915, 'deeply': 1109, 'troubled': 4583, 'isolated': 2307, 'mother': 2852, 'greatly': 1907, 'affected': 79, 'changed': 694, 'mostly': 2851, 'message': 2761, 'effective': 1372, 'haunting': 1996, 'virginia': 4741, 'land': 2457, 'fought': 1751, 'weapons': 4824, 'past': 3166, 'century': 679, 'effect': 1371, 'anthony': 197, 'manages': 2665, 'maintain': 2651, 'mood': 2838, 'atmosphere': 275, 'climax': 796, 'justice': 2383, 'wonderfully': 4923, 'between': 416, 'distant': 1245, 'nature': 2922, 'fits': 1682, 'plotbr': 3273, 'neither': 2944, 'romance': 3696, 'inspiring': 2247, 'unique': 4654, 'vision': 4745, 'era': 1457, 'entertain': 1441, 'lives': 2570, 'torn': 4510, 'apart': 208, 'desperate': 1157, 'rid': 3655, 'altogether': 147, 'gripping': 1916, 'suspense': 4301, 'unlikely': 4663, 'noir': 2970, 'washington': 4797, 'company': 863, 'strangers': 4187, 'apartment': 209, 'robert': 3678, 'ryan': 3731, 'drunk': 1318, 'beats': 367, 'host': 2122, 'sam': 3743, 'happens': 1973, 'jewish': 2344, 'police': 3283, 'detective': 1168, 'whos': 4870, 'assigned': 269, 'outfit': 3102, 'falls': 1583, 'second': 3816, 'cooper': 946, 'third': 4433, 'buddy': 551, 'silence': 3944, 'superior': 4273, 'draws': 1296, 'naturally': 2921, 'angry': 182, 'male': 2660, 'central': 678, 'rendition': 3593, 'vulnerable': 4760, 'sad': 3733, 'kelly': 2397, 'small': 4000, 'politically': 3285, 'engaged': 1425, 'grandfather': 1894, 'hands': 1965, 'thus': 4466, 'attempt': 282, 'explanation': 1536, 'hates': 1993, 'jews': 2345, 'novel': 3004, 'richard': 3653, 'brooks': 539, 'dealt': 1091, 'murder': 2883, 'news': 2951, 'holocaust': 2090, 'europe': 1474, 'studios': 4214, 'potential': 3314, 'ticket': 4467, 'works': 4940, 'general': 1822, 'victims': 4721, 'girlfriend': 1849, 'raises': 3475, 'question': 3452, 'whether': 4861, 'murderous': 2886, 'rage': 3471, 'finest': 1671, 'indian': 2221, 'directed': 1208, 'successful': 4239, 'hitting': 2076, 'parallel': 3142, 'commercial': 854, 'inspiration': 2245, 'leading': 2492, 'directors': 1214, 'tells': 4371, 'reallife': 3520, 'unlike': 4662, 'cities': 768, 'india': 2220, 'system': 4315, 'creates': 995, 'approach': 226, 'amongst': 162, 'various': 4705, 'officers': 3049, 'describes': 1146, 'harsh': 1985, 'himself': 2059, 'suffers': 4251, 'fathers': 1610, 'crime': 1010, 'efforts': 1376, 'leads': 2493, 'achieve': 33, 'desired': 1155, 'resulting': 3629, 'anger': 179, 'expressed': 1547, 'excessive': 1505, 'rooms': 3700, 'alive': 128, 'fights': 1648, 'aware': 311, 'associated': 271, 'practice': 3322, 'negative': 2939, 'finally': 1665, 'master': 2701, 'thoroughly': 4438, 'core': 951, 'memorable': 2744, 'breaks': 514, 'underworld': 4637, 'gangster': 1810, 'house': 2127, 'short': 3917, 'conversation': 936, 'punch': 3429, 'corruption': 959, 'influence': 2231, 'courage': 974, 'belongs': 401, 'portraying': 3303, 'through': 4457, 'emotions': 1405, 'brilliantly': 527, 'exposure': 1545, 'excited': 1507, 'among': 161, 'bay': 357, 'video': 4724, 'cult': 1033, 'classics': 783, 'baby': 318, 'print': 3363, 'quality': 3449, 'alone': 138, 'hide': 2044, 'deadly': 1087, 'dull': 1327, 'thrilling': 4454, 'opening': 3073, 'exact': 1495, 'revenge': 3643, 'motion': 2854, 'ultimately': 4619, 'adding': 58, 'insult': 2253, 'dubbed': 1321, 'promised': 3394, 'significant': 3942, 'quotes': 3463, 'halfway': 1954, 'protagonist': 3404, 'mafia': 2642, 'middleaged': 2777, 'italy': 2312, 'introduced': 2281, 'living': 2571, 'elegant': 1387, 'hotel': 2124, 'business': 575, 'gradually': 1891, 'yet': 4983, 'bank': 335, 'normally': 2984, 'count': 967, 'cash': 652, 'dollars': 1264, 'missing': 2811, 'manager': 2664, 'close': 800, 'account': 30, 'without': 4908, 'fear': 1618, 'caught': 666, 'appearing': 221, 'truth': 4588, 'told': 4495, 'accepted': 23, 'consequences': 903, 'initially': 2236, 'half': 1953, 'described': 1145, 'reveal': 3638, 'days': 1084, 'nights': 2963, 'oddly': 3036, 'revealing': 3640, 'seemingly': 3833, 'mundane': 2881, 'irrelevant': 2301, 'details': 1167, 'unnecessary': 4664, 'essential': 1467, 'constructed': 915, 'identity': 2164, 'loving': 2616, 'edited': 1363, 'canada': 608, 'stood': 4169, 'treat': 4558, 'odds': 3037, 'release': 3568, 'le': 2489, 'element': 1388, 'protagonists': 3405, 'explicit': 1537, 'al': 112, 'pacino': 3124, 'uses': 4688, 'condition': 891, 'deeper': 1108, 'deep': 1107, 'impossible': 2196, 'legendary': 2509, 'anna': 189, 'memory': 2746, 'friend': 1778, 'hasnt': 1989, 'provide': 3411, 'tiny': 4481, 'window': 4889, 'single': 3964, 'quiet': 3457, 'taking': 4322, 'italian': 2311, 'during': 1330, 'waiting': 4765, 'produce': 3376, 'fare': 1598, 'la': 2446, 'explore': 1540, 'loss': 2601, 'expecting': 1523, 'pack': 3125, 'expect': 1520, 'occasional': 3029, 'ie': 2168, 'damned': 1057, 'assume': 272, 'build': 556, 'tension': 4378, 'tedious': 4361, 'fast': 1604, 'button': 581, 'press': 3341, 'gave': 1818, 'seriously': 3862, 'lead': 2490, 'gonna': 1874, 'explaining': 1534, 'anyway': 205, 'concerned': 886, 'london': 2583, 'talent': 4324, 'certainly': 681, 'avoid': 306, 'bored': 483, 'paint': 3134, 'dry': 1320, 'sounded': 4050, 'cute': 1047, 'viewing': 4731, 'sweet': 4307, 'age': 92, 'indie': 2223, 'edge': 1361, 'wonder': 4920, 'hardly': 1980, 'foul': 1752, 'language': 2463, 'closest': 804, 'nudity': 3012, 'hoping': 2109, 'humor': 2141, 'tame': 4333, 'unoriginal': 4665, 'listen': 2561, 'stevens': 4155, 'jesus': 2342, 'wear': 4825, 'television': 4368, 'rated': 3491, 'refuses': 3553, 'rent': 3594, 'waybr': 4815, 'suicide': 4255, 'needs': 2938, 'portrayed': 3302, 'ones': 3066, 'virgin': 4740, 'teenagers': 4365, 'purely': 3437, 'aspect': 264, 'twelve': 4601, 'causes': 669, 'number': 3013, 'chances': 692, 'teens': 4366, 'hopper': 2110, 'investigate': 2286, 'killings': 2418, 'including': 2211, 'begin': 383, 'withbr': 4906, 'heroine': 2039, 'menace': 2748, 'created': 994, 'strangely': 4185, 'double': 1275, 'serves': 3865, 'purpose': 3439, 'quick': 3455, 'gory': 1882, 'unbearable': 4621, 'suggests': 4254, 'throughout': 4458, 'area': 230, 'apparent': 213, 'add': 56, 'act': 37, 'willing': 4884, 'completely': 876, 'nude': 3011, 'shower': 3929, 'following': 1716, 'banned': 336, 'uk': 4617, 'extended': 1550, 'curiosity': 1038, 'value': 4699, 'woods': 4929, 'obviously': 3027, 'struggle': 4206, 'figure': 1649, 'dressed': 1302, 'large': 2464, 'front': 1784, 'okay': 3055, 'week': 4832, 'david': 1079, 'ride': 3656, 'greatest': 1906, 'writer': 4964, 'rubbish': 3712, 'hope': 2104, 'husband': 2153, 'wondered': 4921, 'product': 3381, 'experiment': 1528, 'computer': 881, 'program': 3387, 'propaganda': 3398, 'thrown': 4461, 'call': 592, 'conspiracy': 912, 'steal': 4142, 'protect': 3406, 'justify': 2384, 'actions': 41, 'invasion': 2284, 'nicholas': 2956, 'cage': 587, 'shooting': 3914, 'clue': 812, 'bonus': 477, 'clearly': 787, 'slap': 3986, 'shut': 3933, 'camera': 600, 'child': 735, 'grotesque': 1919, 'benefit': 406, 'majority': 2653, 'creepy': 1007, 'clichãs': 793, 'went': 4843, 'casting': 655, 'mixed': 2819, 'hold': 2079, 'worthy': 4952, 'minimum': 2797, 'james': 2323, 'cuba': 1032, 'jr': 2368, 'themselves': 4412, 'mindless': 2792, 'entertainment': 1444, 'recommend': 3536, 'book': 478, 'issues': 2309, 'race': 3465, 'topic': 4508, 'personal': 3203, 'experiences': 1527, 'growing': 1924, 'china': 742, 'background': 321, 'hong': 2099, 'kong': 2439, 'daring': 1069, 'remembered': 3585, 'jones': 2362, 'oscar': 3090, 'doctor': 1253, 'william': 4882, 'journalist': 2365, 'notch': 2995, 'chemistry': 728, 'lovers': 2614, 'provides': 3413, 'moments': 2829, 'affection': 80, 'hearts': 2012, 'intimate': 2275, 'ending': 1416, 'consider': 905, 'sentimental': 3853, 'stories': 4175, 'shining': 3904, 'example': 1498, 'logic': 2580, 'continuity': 928, 'changes': 695, 'dialog': 1179, 'pain': 3131, 'gary': 1815, 'fbi': 1617, 'local': 2576, 'trailer': 4540, 'confused': 896, 'cops': 949, 'seconds': 3819, 'gun': 1941, 'killed': 2414, 'blast': 444, 'drives': 1311, 'hit': 2069, 'tough': 4519, 'held': 2021, 'bullets': 563, 'states': 4134, 'grace': 1889, 'gods': 1868, 'army': 239, 'improved': 2202, 'filmmaker': 1658, 'began': 382, 'starts': 4130, 'highly': 2052, 'unfortunate': 4645, 'events': 1481, 'blatant': 445, 'exists': 1518, 'level': 2527, 'target': 4337, 'served': 3864, 'mission': 2812, 'gang': 1809, 'california': 591, 'contains': 920, 'mild': 2782, 'available': 304, 'sent': 3851, 'standing': 4116, 'identify': 2163, 'working': 4939, 'factory': 1567, 'figured': 1650, 'pride': 3355, 'american': 158, 'car': 623, 'noted': 2997, 'degree': 1117, 'quit': 3460, 'grade': 1890, 'greed': 1909, 'hour': 2125, 'relatives': 3567, 'remind': 3586, 'americans': 159, 'sake': 3741, 'honor': 2100, 'accomplished': 28, 'heavy': 2017, 'musical': 2892, 'douglas': 1278, 'parts': 3156, 'worthwhile': 4951, 'compared': 865, 'dancers': 1061, 'singing': 3963, 'bigger': 420, 'easier': 1347, 'lighting': 2540, 'delivered': 1122, 'common': 858, 'opinion': 3077, 'obvious': 3026, 'cuts': 1048, 'talking': 4330, 'enjoyable': 1430, 'implausible': 2192, 'whose': 4871, 'supporting': 4277, 'revolves': 3650, 'downhill': 1280, 'mary': 2694, 'historically': 2067, 'thousands': 4446, 'born': 487, 'animals': 184, 'stuff': 4216, 'sunday': 4265, 'offended': 3041, 'public': 3422, 'nearly': 2929, 'twenty': 4602, 'thirty': 4434, 'late': 2470, 'citizen': 769, 'suggested': 4253, 'welles': 4840, 'screenplay': 3802, 'imdb': 2187, 'web': 4828, 'site': 3973, 'six': 3978, 'charles': 710, 'foster': 1750, 'susan': 4298, 'alexander': 121, 'raymond': 3498, 'butler': 579, 'faith': 1577, 'hatred': 1994, 'reveals': 3641, 'method': 2767, 'frequent': 1774, 'situation': 3976, 'leader': 2491, 'tom': 4496, 'tracy': 4531, 'rose': 3702, 'bottom': 494, 'head': 2002, 'hand': 1960, 'morgan': 2847, 'wife': 4877, 'sarah': 3752, 'dimensional': 1202, 'boss': 489, 'respected': 3622, 'voice': 4753, 'sees': 3837, 'flaws': 1694, 'typical': 4614, 'union': 4653, 'strike': 4196, 'blowing': 457, 'views': 4733, 'pure': 3436, 'thanks': 4398, 'moore': 2841, 'sally': 3742, 'tragedy': 4537, 'pair': 3137, 'marry': 2686, 'america': 157, 'cost': 960, 'empire': 1408, 'loses': 2599, 'eve': 1477, 'helen': 2022, 'younger': 4990, 'mistress': 2816, 'learns': 2498, 'behavior': 387, 'herbr': 2032, 'shock': 3909, 'presents': 3339, 'son': 4038, 'philip': 3214, 'discovery': 1232, 'total': 4513, 'jumps': 2377, 'note': 2996, 'board': 464, 'plans': 3255, 'purchase': 3434, 'rival': 3671, 'train': 4542, 'wealthy': 4822, 'detail': 1165, 'rate': 3490, 'social': 4016, 'commentary': 851, 'depression': 1139, 'fulci': 1790, 'giallo': 1844, 'normal': 2983, 'standards': 4115, 'touches': 4517, 'neat': 2930, 'genres': 1830, 'wellknown': 4841, 'wooden': 4928, 'illogical': 2178, 'finale': 1664, 'proves': 3410, 'shall': 3887, 'ironic': 2298, 'yellow': 4980, 'clues': 813, 'th': 4394, 'equivalent': 1456, 'spaghetti': 4060, 'westerns': 4850, 'gordon': 1879, 'clint': 797, 'eastwood': 1351, 'scope': 3791, 'simple': 3952, 'versus': 4713, 'acts': 47, 'narrative': 2912, 'martial': 2690, 'arts': 254, 'premise': 3332, 'workers': 4938, 'village': 4734, 'unhappy': 4648, 'gangsters': 1811, 'exploitation': 1538, 'none': 2975, 'minor': 2799, 'getting': 1841, 'exposed': 1544, 'pushed': 3443, 'credibility': 1003, 'timesbr': 4478, 'mob': 2822, 'temple': 4372, 'learn': 2495, 'slapstick': 3987, 'teaching': 4350, 'methods': 2768, 'kinda': 2422, 'karate': 2388, 'painting': 3136, 'builds': 559, 'strength': 4192, 'sound': 4049, 'impact': 2191, 'treatment': 4560, 'refreshing': 3551, 'wide': 4874, 'highlight': 2050, 'showcase': 3926, 'stunts': 4219, 'angles': 181, 'tad': 4317, 'moves': 2866, 'flicks': 1697, 'repeat': 3598, 'screening': 3801, 'nostalgic': 2990, 'lane': 2462, 'spoilers': 4092, 'familiar': 1586, 'zone': 4999, 'innocent': 2239, 'jimmy': 2347, 'repeated': 3599, 'forced': 1729, 'arms': 238, 'kicked': 2406, 'mouth': 2861, 'fred': 1768, 'willis': 4885, 'ended': 1415, 'france': 1758, 'unit': 4655, 'picking': 3231, 'safety': 3738, 'nearby': 2928, 'church': 757, 'raised': 3474, 'shell': 3899, 'hospital': 2121, 'fell': 1632, 'nurse': 3016, 'lucky': 2625, 'obnoxious': 3022, 'antics': 198, 'western': 4849, 'married': 2685, 'french': 1773, 'already': 141, 'marriage': 2684, 'bitter': 433, 'accident': 25, 'ran': 3477, 'streets': 4190, 'discovered': 1229, 'knew': 2430, 'european': 1475, 'ability': 4, 'found': 1753, 'circle': 765, 'prevent': 3348, 'day': 1083, 'massacre': 2698, 'members': 2743, 'trial': 4566, 'guilt': 1938, 'sentence': 3852, 'hearing': 2009, 'affair': 76, 'broke': 536, 'circus': 767, 'seeing': 3827, 'heart': 2010, 'added': 57, 'decided': 1101, 'letting': 2526, 'lugosi': 2628, 'appeared': 220, 'corpse': 955, 'kills': 2419, 'bodies': 468, 'reporter': 3605, 'discover': 1228, 'deaths': 1095, 'morning': 2848, 'report': 3604, 'murders': 2887, 'drops': 1315, 'dead': 1086, 'shortly': 3918, 'scientists': 3789, 'sons': 4041, 'spooky': 4097, 'sleep': 3991, 'moviebr': 2868, 'fans': 1593, 'rating': 3494, 'par': 3141, 'faces': 1562, 'asking': 261, 'yourself': 4993, 'listed': 2560, 'aint': 106, 'space': 4058, 'nations': 2918, 'support': 4276, 'bush': 574, 'revolution': 3648, 'post': 3312, 'landscape': 2460, 'deserve': 1149, 'shown': 3931, 'characterbr': 703, 'stands': 4118, 'haunted': 1995, 'empty': 1409, 'execution': 1512, 'hopeless': 2107, 'helped': 2026, 'create': 993, 'retarded': 3631, 'blows': 459, 'plight': 3271, 'ends': 1419, 'difficult': 1197, 'documentary': 1256, 'requires': 3612, 'tremendous': 4565, 'skill': 3981, 'patience': 3170, 'directorial': 1213, 'distance': 1244, 'plausible': 3258, 'flow': 1704, 'aka': 111, 'mark': 2680, 'viewer': 4729, 'therebr': 4416, 'fair': 1574, 'problems': 3372, 'explains': 1535, 'extras': 1554, 'doc': 1252, 'porn': 3296, 'website': 4829, 'cameras': 601, 'blacks': 436, 'hills': 2056, 'ii': 2173, 'lose': 2597, 'group': 1921, 'national': 2917, 'notorious': 3003, 'training': 4544, 'desert': 1148, 'includes': 2210, 'blood': 454, 'guts': 1944, 'flying': 1706, 'rape': 3485, 'drag': 1286, 'gore': 1880, 'jump': 2374, 'stays': 4141, 'awake': 308, 'decent': 1099, 'rotten': 3704, 'leaves': 2501, 'estate': 1470, 'office': 3047, 'outside': 3104, 'rings': 3663, 'lifetime': 2537, 'daughters': 1077, 'grave': 1902, 'teenage': 4363, 'cliche': 790, 'spoilersbr': 4093, 'hitchcocks': 2072, 'gothic': 1884, 'intrigue': 2277, 'returned': 3634, 'themes': 4411, 'british': 532, 'mistaken': 2814, 'building': 557, 'necessary': 2932, 'often': 3051, 'thrillers': 4453, 'shadows': 3884, 'citizens': 770, 'knowing': 2435, 'producer': 3378, 'hitchcock': 2071, 'directing': 1209, 'property': 3401, 'elements': 1389, 'sharp': 3893, 'wit': 4903, 'dorothy': 1274, 'parker': 3148, 'brief': 522, 'returning': 3635, 'nyc': 3018, 'perfect': 3187, 'barry': 342, 'los': 2596, 'angeles': 177, 'airplane': 109, 'meets': 2737, 'norman': 2985, 'include': 2208, 'popular': 3293, 'model': 2824, 'patricia': 3173, 'martin': 2691, 'crisis': 1015, 'kidnapped': 2411, 'form': 1740, 'network': 2947, 'ladies': 2452, 'terrorists': 4388, 'criminals': 1013, 'pull': 3423, 'guns': 1942, 'incredibly': 2217, 'tourist': 4521, 'art': 248, 'engaging': 1426, 'clever': 788, 'twists': 4609, 'villains': 4736, 'cameo': 598, 'drug': 1316, 'store': 4174, 'sign': 3941, 'afraid': 83, 'evening': 1479, 'god': 1866, 'albert': 116, 'sir': 3968, 'aging': 97, 'putting': 3447, 'king': 2424, 'aid': 104, 'secondary': 3817, 'interaction': 2266, 'highest': 2049, 'sick': 3935, 'stage': 4109, 'convincing': 941, 'elderly': 1385, 'term': 4379, 'technically': 4356, 'marvelous': 2693, 'arent': 232, 'notably': 2993, 'talked': 4329, 'five': 1684, 'academy': 18, 'awards': 310, 'peter': 3210, 'adapted': 55, 'entertained': 1442, 'somewhere': 4037, 'pregnant': 3329, 'dreadful': 1297, 'important': 2194, 'longer': 2588, 'kate': 2391, 'comedic': 838, 'actresses': 46, 'showbr': 3925, 'adequate': 61, 'process': 3375, 'attempting': 284, 'lesbian': 2516, 'terms': 4380, 'disappointing': 1223, 'intention': 2263, 'favourite': 1616, 'lovely': 2612, 'impressive': 2200, 'miscast': 2804, 'besides': 409, 'portray': 3300, 'moral': 2842, 'redeeming': 3542, 'qualities': 3448, 'named': 2907, 'stephen': 4148, 'raise': 3473, 'teenager': 4364, 'silent': 3945, 'easily': 1348, 'remake': 3581, 'incomprehensible': 2214, 'laughable': 2476, 'todays': 4491, 'drags': 1289, 'silly': 3946, 'mason': 2696, 'stanwyck': 4120, 'torture': 4511, 'colorful': 827, 'suspects': 4300, 'helping': 2027, 'investigation': 2287, 'cases': 651, 'towns': 4525, 'force': 1728, 'priest': 3356, 'mentally': 2751, 'classical': 782, 'contain': 918, 'mystery': 2903, 'strong': 4201, 'guessing': 1934, 'recommended': 3537, 'check': 723, 'despair': 1156, 'share': 3891, 'strange': 4184, 'boys': 502, 'material': 2708, 'bother': 491, 'definitely': 1115, 'beauty': 370, 'faithful': 1578, 'trapped': 4550, 'determined': 1169, 'free': 1770, 'magical': 2646, 'gem': 1820, 'accidentally': 26, 'floor': 1701, 'results': 3630, 'creatures': 1002, 'easy': 1352, 'stone': 4168, 'trick': 4570, 'worn': 4944, 'neck': 2933, 'jonathan': 2361, 'robbery': 3676, 'capable': 616, 'sorts': 4046, 'trouble': 4582, 'jim': 2346, 'females': 1636, 'captain': 617, 'mental': 2750, 'patient': 3171, 'otherwise': 3094, 'unwatchable': 4671, 'crap': 987, 'presence': 3335, 'slightly': 3996, 'basement': 346, 'visual': 4749, 'solely': 4024, 'appealing': 216, 'price': 3353, 'heroes': 2037, 'ali': 123, 'dresses': 1303, 'wore': 4933, 'producers': 3379, 'name': 2906, 'franchise': 1759, 'sequel': 3855, 'eight': 1379, 'carry': 644, 'reference': 3547, 'albeit': 115, 'everyone': 1487, 'robin': 3680, 'harris': 1983, 'furthermore': 1800, 'brothers': 541, 'produced': 3377, 'shallow': 3888, 'disaster': 1225, 'outer': 3101, 'brave': 510, 'againbr': 90, 'max': 2716, 'throw': 4459, 'judging': 2370, 'latter': 2474, 'contained': 919, 'thousand': 4445, 'handful': 1962, 'students': 4212, 'media': 2731, 'holes': 2083, 'worker': 4937, 'attached': 278, 'position': 3305, 'room': 3699, 'experienced': 1526, 'bill': 422, 'campbell': 605, 'wreck': 4961, 'ted': 4360, 'knight': 2432, 'jackie': 2319, 'lawyer': 2486, 'randy': 3479, 'suits': 4259, 'beat': 364, 'baseball': 344, 'bat': 350, 'eat': 1353, 'junior': 2380, 'brand': 508, 'tight': 4471, 'understanding': 4633, 'murray': 2889, 'irritating': 2302, 'overall': 3108, 'comparison': 867, 'awesome': 313, 'sucks': 4244, 'phony': 3219, 'clear': 786, 'factor': 1566, 'hype': 2155, 'surrounding': 4292, 'honest': 2096, 'shocking': 3911, 'manner': 2670, 'philosophy': 3217, 'bull': 561, 'expensive': 1524, 'beautifully': 369, 'filmed': 1656, 'disgusting': 1236, 'doll': 1262, 'considered': 907, 'feature': 1621, 'released': 3569, 'absolute': 11, 'showing': 3930, 'forgive': 1737, 'eye': 1557, 'subtle': 4233, 'messages': 2762, 'across': 36, 'andor': 171, 'bet': 411, 'relate': 3559, 'prostitute': 3403, 'chick': 731, 'religious': 3575, 'crude': 1024, 'captured': 620, 'pathetic': 3169, 'reached': 3501, 'ha': 1947, 'harry': 1984, 'doing': 1261, 'professional': 3384, 'childhood': 736, 'focus': 1708, 'francis': 1760, 'decisions': 1104, 'eddie': 1359, 'winning': 4894, 'super': 4268, 'delightful': 1120, 'goodness': 1877, 'ed': 1358, 'flair': 1686, 'dignity': 1200, 'remarkable': 3582, 'scripts': 3807, 'wed': 4830, 'breasts': 515, 'jaws': 2329, 'doom': 1270, 'bond': 474, 'editor': 1366, 'appreciation': 225, 'tour': 4520, 'de': 1085, 'monkey': 2831, 'toilet': 4494, 'international': 2270, 'station': 4136, 'bar': 337, 'tries': 4573, 'epic': 1450, 'adventure': 71, 'christopher': 755, 'lee': 2504, 'davies': 1080, 'captures': 621, 'biggest': 421, 'modern': 2826, 'flynn': 1707, 'hate': 1991, 'finds': 1669, 'breaking': 513, 'chain': 684, 'mexican': 2769, 'border': 481, 'jail': 2321, 'peace': 3179, 'officer': 3048, 'retired': 3632, 'barbara': 338, 'fired': 1677, 'proud': 3407, 'sorry': 4044, 'larry': 2467, 'chris': 751, 'bebr': 371, 'brutal': 546, 'andrew': 172, 'intended': 2259, 'liberal': 2530, 'interview': 2273, 'keeps': 2395, 'sleazy': 3990, 'bloody': 455, 'japanese': 2327, 'whatever': 4854, 'flick': 1696, 'porno': 3297, 'balance': 328, 'safe': 3737, 'girls': 1850, 'brains': 506, 'photo': 3220, 'team': 4351, 'guys': 1946, 'picked': 3230, 'murderer': 2885, 'random': 3478, 'clips': 799, 'elsewhere': 1394, 'wrestling': 4962, 'yeah': 4974, 'promise': 3393, 'jobs': 2350, 'creature': 1001, 'covered': 979, 'unknown': 4660, 'onebr': 3063, 'highlights': 2051, 'spike': 4080, 'event': 1480, 'cool': 945, 'overly': 3113, 'correct': 956, 'youd': 4987, 'enjoying': 1432, 'throwing': 4460, 'sticks': 4158, 'ease': 1346, 'depiction': 1135, 'revolutionary': 3649, 'swimming': 4308, 'displays': 1243, 'smiling': 4004, 'ocean': 3034, 'comical': 845, 'kicks': 2408, 'limited': 2549, 'twice': 4603, 'finding': 1668, 'trailers': 4541, 'reviews': 3647, 'critics': 1019, 'underrated': 4630, 'doug': 1277, 'block': 450, 'record': 3538, 'treated': 4559, 'interviews': 2274, 'mike': 2781, 'immediately': 2189, 'thisbr': 4436, 'unexpected': 4640, 'follows': 1717, 'moved': 2863, 'riveting': 3673, 'mustsee': 2896, 'memories': 2745, 'forgotten': 1739, 'rare': 3487, 'impression': 2199, 'hbo': 2000, 'millions': 2789, 'incredible': 2216, 'genius': 1828, 'intriguing': 2279, 'bound': 496, 'universe': 4658, 'intense': 2260, 'moment': 2828, 'swear': 4305, 'theyll': 4422, 'suffering': 4250, 'lou': 2605, 'disease': 1235, 'psychic': 3418, 'returns': 3636, 'abusive': 16, 'discovers': 1231, 'string': 4199, 'powers': 3320, 'solve': 4028, 'crimes': 1011, 'oh': 3052, 'roberts': 3679, 'tons': 4502, 'fooled': 1722, 'accents': 20, 'trite': 4578, 'ask': 259, 'gross': 1918, 'sit': 3971, 'australia': 299, 'ambitious': 156, 'sport': 4098, 'surfing': 4284, 'shark': 3892, 'filled': 1653, 'waters': 4809, 'evident': 1492, 'dangerous': 1065, 'aged': 93, 'animal': 183, 'fifteen': 1644, 'lake': 2455, 'closely': 802, 'australian': 300, 'hundred': 2144, 'viewers': 4730, 'fate': 1608, 'walter': 4776, 'eerie': 1370, 'similarities': 3949, 'fiction': 1640, 'connection': 901, 'weak': 4819, 'screenwriter': 3804, 'develop': 1170, 'stretch': 4194, 'ideas': 2162, 'joel': 2352, 'phone': 3218, 'stinker': 4162, 'quickly': 3456, 'titled': 4486, 'stuck': 4210, 'listening': 2562, 'carrey': 640, 'wait': 4763, 'reach': 3500, 'unconvincing': 4626, 'forgettable': 1736, 'narration': 2911, 'bland': 442, 'danny': 1067, 'offered': 3044, 'joke': 2358, 'dire': 1206, 'wondering': 4924, 'drew': 1304, 'finish': 1674, 'bed': 377, 'touching': 4518, 'mean': 2721, 'twisted': 4608, 'advise': 75, 'interested': 2268, 'manage': 2662, 'required': 3611, 'accent': 19, 'brad': 504, 'johnson': 2355, 'matt': 2710, 'divorce': 1250, 'gentle': 1831, 'beach': 360, 'revealed': 3639, 'regard': 3554, 'turner': 4597, 'books': 479, 'attack': 279, 'pulling': 3425, 'pulled': 3424, 'sucked': 4243, 'lacked': 2449, 'rock': 3684, 'walker': 4770, 'martha': 2689, 'current': 1040, 'misery': 2807, 'savage': 3760, 'private': 3368, 'said': 3740, 'sadly': 3735, 'candy': 611, 'topless': 4509, 'industry': 2226, 'theaters': 4404, 'ring': 3662, 'horrors': 2118, 'eg': 1377, 'pointless': 3281, 'grudge': 1927, 'hey': 2042, 'villain': 4735, 'critic': 1016, 'scares': 3774, 'michelle': 2773, 'visit': 4746, 'incident': 2207, 'depicted': 1133, 'witness': 4909, 'glad': 1855, 'tied': 4469, 'rely': 3576, 'tiresome': 4483, 'dig': 1198, 'ghosts': 1843, 'library': 2531, 'arrived': 245, 'digital': 1199, 'nowbr': 3008, 'con': 882, 'vehicle': 4708, 'obsession': 3025, 'became': 372, 'visiting': 4747, 'planned': 3253, 'navy': 2923, 'holly': 2086, 'rob': 3675, 'curious': 1039, 'canadian': 609, 'cross': 1020, 'cure': 1037, 'rented': 3596, 'believing': 398, 'ripoff': 3665, 'blade': 437, 'ill': 2175, 'creators': 1000, 'comment': 850, 'creation': 997, 'corner': 952, 'incoherent': 2212, 'grey': 1914, 'smart': 4002, 'universal': 4657, 'introduces': 2282, 'alice': 124, 'loves': 2615, 'ship': 3905, 'wedding': 4831, 'realizing': 3519, 'precious': 3324, 'chooses': 747, 'emphasis': 1407, 'natural': 2920, 'notes': 2998, 'weight': 4835, 'sings': 3965, 'seeking': 3829, 'youth': 4994, 'paying': 3177, 'attractive': 291, 'isbr': 2304, 'led': 2503, 'friendship': 1781, 'struggling': 4208, 'folks': 1713, 'alfred': 122, 'joan': 2348, 'lawrence': 2485, 'photographed': 3221, 'reminiscent': 3589, 'theatrical': 4406, 'bedroom': 378, 'farce': 1597, 'artistic': 252, 'importance': 2193, 'caring': 634, 'possibly': 3311, 'spectacular': 4071, 'miniseries': 2798, 'red': 3541, 'technology': 4359, 'lord': 2595, 'daniel': 1066, 'passionate': 3165, 'thief': 4426, 'violent': 4739, 'outrageous': 3103, 'brown': 543, 'foot': 1723, 'pity': 3244, 'achievement': 35, 'faults': 1612, 'cried': 1009, 'cheese': 726, 'restaurant': 3627, 'heres': 2035, 'reaches': 3502, 'kick': 2405, 'animated': 185, 'motivation': 2855, 'ball': 330, 'fairly': 1575, 'exist': 1515, 'useful': 4685, 'thembr': 4409, 'cardboard': 625, 'involving': 2294, 'stupidity': 4221, 'compare': 864, 'understand': 4631, 'difference': 1194, 'inept': 2227, 'chilling': 741, 'previously': 3351, 'plain': 3249, 'badbr': 324, 'pet': 3209, 'gate': 1817, 'tripe': 4577, 'mario': 2678, 'fond': 1718, 'latest': 2473, 'installment': 2248, 'keeping': 2394, 'receives': 3530, 'letter': 2524, 'princess': 3361, 'castle': 656, 'kingdom': 2425, 'lands': 2459, 'floating': 1700, 'consists': 911, 'multiple': 2879, 'travels': 4555, 'via': 4717, 'losing': 2600, 'jumping': 2376, 'shake': 3885, 'remote': 3590, 'perform': 3190, 'spin': 4081, 'primary': 3358, 'fire': 1676, 'enemies': 1421, 'objects': 3021, 'environment': 1449, 'graphics': 1899, 'describe': 1144, 'superb': 4269, 'challenging': 689, 'inspired': 2246, 'length': 2513, 'madness': 2640, 'cartoons': 649, 'writers': 4966, 'allows': 135, 'content': 922, 'near': 2927, 'below': 403, 'distinct': 1246, 'meeting': 2736, 'van': 4703, 'chicago': 730, 'underground': 4628, 'festival': 1637, 'rip': 3664, 'kenneth': 2400, 'roman': 3695, 'oliver': 3058, 'terry': 4389, 'stated': 4132, 'charlie': 711, 'directly': 1211, 'questions': 3454, 'asked': 260, 'mtv': 2876, 'necessarily': 2931, 'excuse': 1510, 'spoken': 4095, 'statement': 4133, 'lit': 2563, 'theatre': 4405, 'beer': 380, 'rocky': 3687, 'shape': 3890, 'lie': 2532, 'minds': 2793, 'intellectual': 2256, 'midnight': 2778, 'energy': 1423, 'physical': 3226, 'linda': 2552, 'beneath': 405, 'garbage': 1812, 'lay': 2487, 'separate': 3854, 'buy': 582, 'sean': 3810, 'connery': 902, 'frustrated': 1786, 'handle': 1963, 'equipment': 1455, 'buying': 583, 'hilariously': 2054, 'madefortv': 2639, 'possessed': 3307, 'cake': 590, 'exceptionally': 1504, 'breathtaking': 517, 'ripped': 3666, 'ancient': 168, 'kim': 2420, 'disney': 1240, 'witch': 4904, 'drawing': 1294, 'ugly': 4616, 'laughably': 2477, 'ludicrous': 2627, 'curtis': 1043, 'struggles': 4207, 'briefly': 523, 'pop': 3290, 'victor': 4722, 'native': 2919, 'practically': 3321, 'stick': 4157, 'wildly': 4880, 'admittedly': 64, 'trash': 4551, 'vacation': 4694, 'nazi': 2924, 'seventies': 3874, 'blonde': 453, 'supposedly': 4280, 'survivors': 4297, 'nuts': 3017, 'attracted': 289, 'meant': 2726, 'depressing': 1138, 'marion': 2679, 'mgm': 2771, 'arrives': 246, 'arrive': 244, 'costume': 962, 'studio': 4213, 'pieces': 3237, 'handsome': 1966, 'pretentious': 3346, 'runs': 3722, 'self': 3841, 'cameos': 599, 'chaplin': 700, 'treasure': 4557, 'handled': 1964, 'claim': 774, 'answers': 196, 'trek': 4564, 'crew': 1008, 'earth': 1345, 'quest': 3451, 'hopes': 2108, 'enterprise': 1439, 'kirk': 2427, 'stale': 4111, 'chair': 686, 'ego': 1378, 'moreover': 2846, 'whereas': 4860, 'guilty': 1939, 'overacting': 3107, 'spots': 4101, 'involves': 2293, 'row': 3708, 'round': 3706, 'claims': 776, 'melodrama': 2740, 'ruthless': 3730, 'fictional': 1641, 'flashback': 1688, 'gift': 1846, 'cinematic': 762, 'makeup': 2658, 'authority': 303, 'prime': 3359, 'history': 2068, 'audio': 294, 'sleeping': 3992, 'awfully': 315, 'hokey': 2078, 'fascinated': 1600, 'jane': 2325, 'clark': 778, 'direct': 1207, 'literature': 2565, 'copy': 950, 'wrote': 4971, 'socalled': 4014, 'miserable': 2805, 'kung': 2443, 'fu': 1789, 'celluloid': 675, 'choose': 746, 'ps': 3416, 'choreography': 748, 'overdone': 3110, 'spoke': 4094, 'yearold': 4976, 'pretending': 3345, 'cox': 982, 'opposite': 3081, 'stopped': 4172, 'renting': 3597, 'review': 3644, 'smile': 4003, 'goal': 1865, 'finished': 1675, 'cgi': 683, 'river': 3672, 'realistic': 3514, 'suspenseful': 4302, 'hole': 2082, 'aussie': 296, 'outstanding': 3105, 'driven': 1309, 'endless': 1418, 'chases': 717, 'chase': 715, 'quinn': 3458, 'terrorist': 4387, 'draw': 1293, 'donald': 1267, 'sutherland': 4304, 'ben': 404, 'toward': 4522, 'paranoia': 3143, 'frightening': 1782, 'intensity': 2261, 'locations': 2578, 'above': 8, 'loud': 2606, 'repeatedly': 3600, 'stark': 4123, 'ignorant': 2170, 'hiding': 2046, 'backdrop': 320, 'paris': 3146, 'choice': 744, 'louis': 2607, 'seat': 3815, 'opposed': 3080, 'ordinary': 3086, 'popularity': 3294, 'closed': 801, 'government': 1887, 'eighties': 1380, 'iron': 2297, 'continue': 925, 'rule': 3717, 'represent': 3606, 'static': 4135, 'activities': 42, 'featuring': 1624, 'test': 4390, 'abysmal': 17, 'everywhere': 1490, 'onscreen': 3069, 'margaret': 2675, 'bride': 519, 'boyfriend': 501, 'checking': 725, 'womans': 4916, 'ms': 2874, 'focusing': 1711, 'dust': 1331, 'cover': 978, 'mans': 2671, 'hurts': 2152, 'hadnt': 1950, 'characterization': 704, 'footage': 1724, 'godfather': 1867, 'bergman': 407, 'dentist': 1131, 'crush': 1028, 'steals': 4144, 'believes': 397, 'matthau': 2713, 'won': 4919, 'relief': 3572, 'learning': 2497, 'body': 469, 'synopsis': 4314, 'outbr': 3099, 'matthew': 2714, 'blue': 460, 'stewart': 4156, 'supernatural': 4275, 'fears': 1619, 'falling': 1582, 'winds': 4890, 'ah': 102, 'chuck': 756, 'jungle': 2379, 'dawn': 1082, 'wing': 4892, 'badly': 325, 'tongue': 4500, 'lacks': 2451, 'send': 3845, 'edgar': 1360, 'cat': 657, 'boris': 486, 'karloff': 2390, 'dolls': 1265, 'guests': 1936, 'terrifying': 4384, 'popcorn': 3291, 'frost': 1785, 'introduction': 2283, 'deals': 1090, 'intentionally': 2264, 'keaton': 2392, 'zombies': 4998, 'mere': 2756, 'closeups': 806, 'court': 976, 'uninteresting': 4652, 'insulting': 2254, 'walking': 4771, 'crack': 983, 'jealous': 2332, 'sends': 3846, 'advantage': 70, 'win': 4887, 'blind': 449, 'atmospheric': 276, 'scifi': 3790, 'invisible': 2288, 'ridiculously': 3658, 'melodramatic': 2741, 'korean': 2440, 'ironically': 2299, 'aimed': 105, 'betty': 415, 'west': 4848, 'tim': 4473, 'sexual': 3879, 'unrealistic': 4667, 'department': 1132, 'mid': 2775, 'paced': 3122, 'acted': 38, 'square': 4106, 'selling': 3844, 'upbr': 4673, 'escape': 1462, 'tag': 4318, 'photography': 3223, 'understandable': 4632, 'prize': 3369, 'ups': 4677, 'walls': 4775, 'warm': 4786, 'persons': 3207, 'accompanied': 27, 'represented': 3607, 'movements': 2865, 'tony': 4503, 'deserves': 1151, 'maggie': 2644, 'somehow': 4031, 'luckily': 2624, 'deal': 1088, 'competition': 871, 'involve': 2290, 'calls': 595, 'road': 3674, 'feet': 1630, 'shy': 3934, 'teach': 4346, 'bus': 573, 'depressed': 1137, 'ordered': 3084, 'rolling': 3694, 'hired': 2064, 'lonely': 2586, 'device': 1175, 'games': 1808, 'scare': 3771, 'laughing': 2479, 'kidding': 2410, 'kitchen': 2429, 'assistant': 270, 'drive': 1307, 'clip': 798, 'belong': 400, 'destroyed': 1163, 'resources': 3620, 'removed': 3592, 'psychological': 3420, 'dee': 1106, 'smoking': 4007, 'lousy': 2608, 'hack': 1948, 'embarrassed': 1397, 'idiot': 2165, 'holy': 2091, 'smith': 4005, 'paid': 3130, 'attention': 286, 'writerdirector': 4965, 'reaching': 3503, 'portion': 3298, 'credit': 1005, 'track': 4528, 'awkward': 317, 'sitcom': 3972, 'talents': 4326, 'embarrassment': 1399, 'meg': 2738, 'plastic': 3257, 'notbr': 2994, 'everyones': 1488, 'cartoon': 648, 'yesterday': 4982, 'appropriate': 227, 'reads': 3509, 'cousin': 977, 'extra': 1552, 'features': 1623, 'contemporary': 921, 'discussion': 1234, 'notable': 2992, 'location': 2577, 'proper': 3399, 'forever': 1734, 'tomorrow': 4498, 'episodes': 1452, 'gene': 1821, 'contrary': 930, 'belief': 392, 'walked': 4768, 'breath': 516, 'bridge': 520, 'paper': 3140, 'sheer': 3897, 'nostalgia': 2989, 'pleasantly': 3266, 'numbers': 3014, 'hat': 1990, 'integrity': 2255, 'andy': 174, 'taxi': 4343, 'marshall': 2688, 'cable': 586, 'green': 1912, 'card': 624, 'disliked': 1239, 'asian': 257, 'light': 2538, 'express': 1546, 'drink': 1305, 'steven': 4154, 'personality': 3205, 'surprising': 4288, 'reviewer': 3645, 'chest': 729, 'offbr': 3040, 'joseph': 2363, 'electric': 1386, 'talks': 4331, 'spends': 4077, 'alex': 120, 'coach': 815, 'executed': 1511, 'sole': 4023, 'chasing': 718, 'amounts': 164, 'keith': 2396, 'elvis': 1395, 'queen': 3450, 'clown': 810, 'comedian': 836, 'pay': 3176, 'flaw': 1691, 'delivering': 1123, 'purple': 3438, 'forces': 1730, 'sides': 3938, 'convoluted': 943, 'matters': 2712, 'absence': 9, 'generally': 1823, 'filmmaking': 1660, 'range': 3480, 'annoyed': 192, 'adds': 60, 'variety': 4704, 'hamilton': 1957, 'seenbr': 3836, 'burton': 572, 'deliver': 1121, 'grim': 1915, 'explained': 1533, 'changing': 696, 'food': 1720, 'drinking': 1306, 'onbr': 3060, 'disjointed': 1237, 'screens': 3803, 'harder': 1979, 'accept': 21, 'gratuitous': 1901, 'steps': 4149, 'relies': 3573, 'translation': 4548, 'society': 4017, 'date': 1073, 'bible': 418, 'waited': 4764, 'comic': 844, 'comics': 846, 'birds': 427, 'heads': 2005, 'conditions': 892, 'psychotic': 3421, 'wifes': 4878, 'bin': 424, 'thankfully': 4397, 'idiotic': 2166, 'danger': 1064, 'tarzan': 4338, 'weeks': 4834, 'sounds': 4052, 'monkeys': 2832, 'month': 2836, 'stayed': 4139, 'realized': 3517, 'ian': 2157, 'traveling': 4554, 'spell': 4074, 'scenery': 3780, 'ford': 1731, 'flight': 1699, 'recently': 3532, 'complicated': 878, 'speaks': 4066, 'college': 824, 'damage': 1054, 'clean': 785, 'landscapes': 2461, 'conventional': 935, 'simon': 3951, 'toys': 4527, 'irony': 2300, 'gay': 1819, 'lacking': 2450, 'severely': 3877, 'sinister': 3966, 'fabulous': 1559, 'kevin': 2402, 'disappear': 1218, 'visible': 4744, 'standard': 4114, 'blank': 443, 'fill': 1652, 'split': 4088, 'burn': 567, 'specific': 4069, 'glasses': 1857, 'possibilities': 3308, 'touched': 4516, 'desire': 1154, 'visits': 4748, 'arm': 236, 'setting': 3869, 'ages': 96, 'adaptation': 53, 'cheating': 722, 'catch': 658, 'soft': 4018, 'bollywood': 472, 'plan': 3250, 'careful': 631, 'overlooked': 3112, 'critical': 1017, 'merit': 2758, 'warren': 4792, 'community': 860, 'deliberately': 1118, 'defeat': 1110, 'offering': 3045, 'genuinely': 1834, 'satisfying': 3758, 'forth': 1746, 'sexually': 3881, 'tie': 4468, 'technical': 4355, 'subtitles': 4232, 'nine': 2964, 'combine': 833, 'daily': 1053, 'zero': 4996, 'charisma': 708, 'guest': 1935, 'mask': 2695, 'screaming': 3797, 'freak': 1767, 'rates': 3492, 'gas': 1816, 'driving': 1312, 'elizabeth': 1391, 'wandering': 4777, 'reading': 3508, 'field': 1642, 'joe': 2351, 'rain': 3472, 'austen': 297, 'passion': 3164, 'ignored': 2172, 'happily': 1974, 'balls': 331, 'dances': 1062, 'step': 4147, 'slightest': 3995, 'nobody': 2969, 'overwhelming': 3116, 'tragic': 4538, 'subtlety': 4234, 'prejudice': 3330, 'bare': 339, 'bones': 476, 'remain': 3577, 'mature': 2715, 'replaced': 3603, 'staring': 4122, 'scream': 3796, 'remaining': 3579, 'whatsoever': 4856, 'established': 1469, 'wicked': 4873, 'relationships': 3564, 'bbc': 358, 'rough': 3705, 'friendly': 1779, 'calm': 596, 'pitt': 3243, 'powerful': 3319, 'regular': 3558, 'clichã': 791, 'greater': 1905, 'greek': 1911, 'sink': 3967, 'metaphor': 2766, 'corny': 953, 'agents': 95, 'cg': 682, 'dreary': 1300, 'bottle': 493, 'holding': 2080, 'butt': 580, 'rat': 3489, 'subsequent': 4230, 'alright': 142, 'teaches': 4349, 'faced': 1561, 'debut': 1096, 'reasons': 3525, 'secretly': 3822, 'kurt': 2444, 'context': 924, 'newspaper': 2952, 'homosexual': 2095, 'experiments': 1530, 'likely': 2545, 'party': 3157, 'related': 3560, 'require': 3610, 'somebody': 4030, 'lady': 2453, 'per': 3186, 'magic': 2645, 'whenever': 4858, 'internet': 2271, 'releases': 3570, 'guide': 1937, 'broken': 537, 'spot': 4100, 'park': 3147, 'musicians': 2894, 'rude': 3713, 'poignant': 3278, 'tear': 4353, 'page': 3128, 'werewolf': 4846, 'mirror': 2803, 'throat': 4456, 'gags': 1805, 'tracks': 4530, 'attitudes': 288, 'lately': 2471, 'ex': 1494, 'iii': 2174, 'prior': 3364, 'hideous': 2045, 'criminal': 1012, 'break': 512, 'filmmakers': 1659, 'answer': 195, 'worthless': 4950, 'portrayal': 3301, 'landing': 2458, 'receive': 3528, 'sub': 4225, 'flashbacks': 1689, 'emotion': 1402, 'sunshine': 4267, 'fat': 1606, 'defined': 1113, 'drop': 1313, 'runner': 3720, 'dude': 1324, 'mute': 2897, 'homeless': 2094, 'wishes': 4901, 'happiness': 1975, 'innocence': 2238, 'grant': 1896, 'loads': 2575, 'repetitive': 3601, 'blend': 447, 'intelligence': 2257, 'moody': 2839, 'spare': 4063, 'adults': 67, 'wellbr': 4839, 'educational': 1368, 'tends': 4376, 'upset': 4678, 'delivery': 1125, 'service': 3866, 'essentially': 1468, 'toobr': 4505, 'bruce': 544, 'hood': 2101, 'friday': 1777, 'dreams': 1299, 'nonexistent': 2977, 'student': 4211, 'population': 3295, 'massive': 2700, 'study': 4215, 'starting': 4129, 'historical': 2066, 'insight': 2243, 'format': 1741, 'immensely': 2190, 'blow': 456, 'smaller': 4001, 'move': 2862, 'science': 3786, 'closer': 803, 'brian': 518, 'rabbit': 3464, 'mistakes': 2815, 'everyday': 1486, 'hang': 1967, 'attraction': 290, 'search': 3811, 'information': 2233, 'texas': 4392, 'aboutbr': 7, 'definition': 1116, 'batman': 354, 'warner': 4790, 'producing': 3380, 'status': 4137, 'basic': 347, 'herself': 2040, 'futuristic': 1802, 'seasons': 3814, 'adventures': 72, 'nicely': 2955, 'league': 2494, 'waves': 4812, 'wayne': 4816, 'bob': 466, 'hints': 2061, 'fourth': 1755, 'ya': 4973, 'blair': 439, 'namely': 2908, 'circumstances': 766, 'fortunately': 1747, 'shoots': 3915, 'ranks': 3483, 'bucks': 549, 'cinematographer': 763, 'slowly': 3999, 'hits': 2075, 'personalities': 3204, 'tall': 4332, 'blown': 458, 'equal': 1453, 'surprises': 4287, 'marks': 2683, 'entry': 1448, 'hill': 2055, 'companies': 861, 'unbelievably': 4623, 'spoiled': 4090, 'notion': 3002, 'structure': 4205, 'amateur': 151, 'heavily': 2016, 'influenced': 2232, 'nonstop': 2980, 'yelling': 4979, 'images': 2182, 'recording': 3540, 'appalling': 212, 'gritty': 1917, 'alternate': 144, 'profound': 3386, 'promising': 3396, 'brazil': 511, 'dog': 1259, 'recent': 3531, 'racist': 3469, 'boredom': 484, 'argument': 235, 'buried': 566, 'unforgettable': 4644, 'escaped': 1463, 'heaven': 2015, 'burt': 571, 'reynolds': 3651, 'soul': 4047, 'don': 1266, 'gotta': 1885, 'failure': 1573, 'convey': 938, 'pitiful': 3242, 'advance': 68, 'construction': 916, 'politics': 3286, 'extraordinary': 1553, 'interpretation': 2272, 'bringing': 529, 'missed': 2809, 'exciting': 1509, 'assassin': 267, 'ultimate': 4618, 'abilities': 3, 'signs': 3943, 'weapon': 4823, 'dying': 1336, 'battles': 356, 'showdown': 3927, 'unable': 4620, 'samurai': 3745, 'imaginative': 2184, 'admit': 63, 'flawless': 1693, 'rachel': 3466, 'rush': 3724, 'convinced': 940, 'bite': 431, 'leg': 2506, 'wasbr': 4796, 'preview': 3349, 'corrupt': 958, 'boxing': 499, 'remotely': 3591, 'becoming': 376, 'offer': 3043, 'load': 2573, 'thatbr': 4400, 'hall': 1955, 'destiny': 1161, 'hammer': 1959, 'tobr': 4489, 'anne': 190, 'health': 2006, 'pages': 3129, 'vampire': 4701, 'writes': 4967, 'novels': 3005, 'hint': 2060, 'stuart': 4209, 'voiceover': 4754, 'flesh': 1695, 'focused': 1709, 'disturbed': 1248, 'montage': 2835, 'mediocre': 2733, 'impress': 2197, 'props': 3402, 'mini': 2795, 'premiere': 3331, 'leonard': 2514, 'bomb': 473, 'vengeance': 4709, 'colors': 828, 'strip': 4200, 'suspect': 4299, 'kudos': 2442, 'united': 4656, 'attacks': 281, 'cruel': 1025, 'insane': 2241, 'humanity': 2138, 'sin': 3957, 'religion': 3574, 'freedom': 1771, 'speech': 4072, 'spread': 4102, 'limits': 2550, 'individuals': 2225, 'legal': 2507, 'wealth': 4821, 'locked': 2579, 'abuse': 14, 'selfish': 3842, 'purposes': 3440, 'monsters': 2834, 'choices': 745, 'plague': 3248, 'suggest': 4252, 'overlong': 3111, 'patrick': 3174, 'uncle': 4624, 'royal': 3710, 'opportunity': 3079, 'familys': 1589, 'imagery': 2181, 'size': 3980, 'worldbr': 4942, 'voyage': 4758, 'darkness': 1072, 'sell': 3843, 'clothing': 809, 'believed': 396, 'dress': 1301, 'code': 817, 'stereotype': 4150, 'recognized': 3535, 'crowd': 1022, 'depicting': 1134, 'worlds': 4943, 'bleak': 446, 'remained': 3578, 'hidden': 2043, 'provided': 3412, 'attitude': 287, 'illegal': 2176, 'jean': 2333, 'barney': 341, 'phillips': 3215, 'driver': 1310, 'russian': 3728, 'lived': 2568, 'fox': 1756, 'forgot': 1738, 'lesser': 2519, 'link': 2555, 'severe': 3876, 'warrior': 4793, 'etcbr': 1473, 'wise': 4898, 'legs': 2510, 'suffer': 4248, 'consistent': 909, 'motivations': 2856, 'agrees': 101, 'imagined': 2186, 'arrival': 243, 'riding': 3659, 'military': 2786, 'kennedy': 2399, 'gotten': 1886, 'tea': 4345, 'reminded': 3587, 'custer': 1045, 'santa': 3750, 'destruction': 1164, 'seagal': 3809, 'beaten': 365, 'pulp': 3427, 'kinds': 2423, 'coherent': 819, 'jay': 2330, 'tonight': 4501, 'concerns': 888, 'nevertheless': 2949, 'wwii': 4972, 'dear': 1093, 'nelson': 2945, 'favor': 1613, 'enemy': 1422, 'rank': 3482, 'frankly': 1766, 'prefer': 3328, 'powell': 3317, 'eric': 1458, 'titles': 4487, 'shines': 3903, 'productions': 3383, 'aliens': 126, 'mankind': 2669, 'explosion': 1542, 'joy': 2367, 'widescreen': 4875, 'screenbr': 3800, 'russell': 3726, 'pilot': 3239, 'base': 343, 'tense': 4377, 'winter': 4896, 'creative': 998, 'justin': 2385, 'user': 4687, 'itll': 2314, 'unusual': 4670, 'lazy': 2488, 'develops': 1174, 'makers': 2656, 'stooges': 4170, 'imitation': 2188, 'flawed': 1692, 'bathroom': 353, 'laurel': 2483, 'hardy': 1981, 'shelf': 3898, 'channel': 697, 'till': 4472, 'lemmon': 2512, 'perfection': 3188, 'cruise': 1027, 'ought': 3095, 'firstly': 1679, 'dancer': 1060, 'chicken': 732, 'scared': 3773, 'cook': 944, 'misses': 2810, 'secondly': 3818, 'lewis': 2529, 'suit': 4256, 'piano': 3228, 'likes': 2546, 'shop': 3916, 'bates': 351, 'strongly': 4203, 'dislike': 1238, 'allow': 132, 'anyways': 206, 'jamie': 2324, 'expression': 1548, 'clothes': 808, 'tend': 4374, 'catching': 660, 'mysteries': 2901, 'secrets': 3823, 'mighty': 2780, 'buff': 553, 'youbr': 4986, 'chan': 690, 'stunt': 4218, 'wine': 4891, 'mass': 2697, 'dogs': 1260, 'et': 1471, 'avoided': 307, 'costs': 961, 'gorgeous': 1881, 'wild': 4879, 'russia': 3727, 'beloved': 402, 'slight': 3994, 'dialogues': 1182, 'cultural': 1034, 'captivating': 618, 'advice': 74, 'sum': 4261, 'artificial': 250, 'routine': 3707, 'pink': 3240, 'met': 2764, 'allbr': 130, 'maker': 2655, 'bag': 326, 'sports': 4099, 'robot': 3682, 'finger': 1672, 'threw': 4450, 'howard': 2131, 'emily': 1400, 'cusack': 1044, 'cameron': 603, 'winner': 4893, 'teacher': 4347, 'guessed': 1933, 'humorous': 2142, 'thoughtful': 4442, 'skip': 3984, 'gain': 1806, 'months': 2837, 'involvement': 2292, 'bear': 361, 'responsibility': 3624, 'wind': 4888, 'lion': 2556, 'eager': 1340, 'peoples': 3185, 'largely': 2465, 'toy': 4526, 'mixture': 2820, 'cars': 646, 'puppet': 3432, 'sits': 3974, 'chicks': 733, 'horses': 2120, 'demands': 1127, 'principal': 3362, 'lesson': 2520, 'fish': 1680, 'center': 676, 'ann': 188, 'staff': 4108, 'prey': 3352, 'precisely': 3325, 'murdered': 2884, 'exchange': 1506, 'scheme': 3783, 'orders': 3085, 'operation': 3076, 'seek': 3828, 'author': 302, 'spy': 4104, 'bumbling': 564, 'amazed': 153, 'giant': 1845, 'cave': 671, 'puppets': 3433, 'teeth': 4367, 'claire': 777, 'arrogant': 247, 'raw': 3496, 'asks': 262, 'stellar': 4146, 'ron': 3698, 'devoted': 1178, 'frustration': 1788, 'persona': 3202, 'parody': 3149, 'generation': 1824, 'amazingly': 155, 'cd': 672, 'greedy': 1910, 'push': 3442, 'robinson': 3681, 'subplot': 4228, 'glenn': 1858, 'veteran': 4715, 'explored': 1541, 'splatter': 4086, 'unsettling': 4668, 'drivel': 1308, 'switch': 4309, 'spoof': 4096, 'heat': 2014, 'passed': 3160, 'east': 1349, 'senseless': 3848, 'catherine': 663, 'slick': 3993, 'ruined': 3715, 'absent': 10, 'bold': 470, 'garden': 1813, 'causing': 670, 'hire': 2063, 'awhile': 316, 'cliff': 794, 'careers': 630, 'meryl': 2759, 'streep': 4188, 'mrs': 2873, 'pursuit': 3441, 'airport': 110, 'path': 3168, 'passengers': 3161, 'plane': 3251, 'racism': 3468, 'rural': 3723, 'nightmare': 2961, 'stereotypes': 4151, 'offensive': 3042, 'reed': 3545, 'sadistic': 3734, 'birthday': 429, 'atrocious': 277, 'blake': 440, 'adorable': 65, 'independent': 2219, 'buffs': 554, 'hunt': 2147, 'pleasure': 3269, 'alternative': 145, 'edition': 1365, 'featured': 1622, 'bronson': 538, 'hitman': 2074, 'infamous': 2229, 'invited': 2289, 'doctors': 1254, 'norris': 2986, 'ice': 2158, 'dramas': 1291, 'stylish': 4224, 'charlotte': 712, 'charge': 707, 'horrific': 2115, 'continues': 927, 'committed': 857, 'downright': 1281, 'freddy': 1769, 'jason': 2328, 'myers': 2899, 'combined': 834, 'timothy': 4480, 'grand': 1893, 'wow': 4959, 'colour': 829, 'blame': 441, 'storm': 4176, 'intent': 2262, 'channels': 698, 'confusion': 898, 'sun': 4264, 'mitchell': 2817, 'threat': 4447, 'crash': 989, 'fly': 1705, 'overcome': 3109, 'stranded': 4183, 'pointed': 3280, 'twilight': 4604, 'essence': 1466, 'enthusiasm': 1445, 'market': 2681, 'unpleasant': 4666, 'desperately': 1158, 'billy': 423, 'crystal': 1031, 'wouldbe': 4954, 'stole': 4165, 'travel': 4553, 'exceptional': 1503, 'performer': 3194, 'holiday': 2084, 'segment': 3838, 'instantly': 2251, 'carter': 647, 'alcoholic': 119, 'spoil': 4089, 'eaten': 1354, 'drunken': 1319, 'directs': 1215, 'beast': 363, 'endings': 1417, 'demon': 1128, 'knock': 2433, 'abandoned': 1, 'demons': 1129, 'filmsbr': 1662, 'huh': 2136, 'regardless': 3556, 'jon': 2360, 'competent': 870, 'reduced': 3544, 'appreciated': 224, 'granted': 1897, 'guitar': 1940, 'mode': 2823, 'hed': 2019, 'behave': 386, 'fix': 1685, 'criticism': 1018, 'fool': 1721, 'task': 4339, 'weakest': 4820, 'min': 2790, 'mins': 2800, 'ass': 266, 'scripted': 3806, 'patients': 3172, 'increasingly': 2215, 'originality': 3088, 'alas': 114, 'lifebr': 2535, 'represents': 3608, 'vice': 4718, 'foreign': 1732, 'treats': 4561, 'quote': 3462, 'regarding': 3555, 'turkey': 4593, 'presumably': 3343, 'ned': 2934, 'favorites': 1615, 'affect': 78, 'fame': 1585, 'shorts': 3919, 'sight': 3940, 'morality': 2843, 'mile': 2784, 'coast': 816, 'triumph': 4579, 'nation': 2916, 'yearsbr': 4978, 'civilization': 773, 'dedicated': 1105, 'convincingly': 942, 'strikes': 4197, 'seven': 3873, 'moon': 2840, 'concert': 889, 'moviesbr': 2870, 'lying': 2631, 'considering': 908, 'stomach': 4167, 'chainsaw': 685, 'tank': 4334, 'incompetent': 2213, 'mexico': 2770, 'mel': 2739, 'communist': 859, 'eats': 1356, 'viewings': 4732, 'warning': 4791, 'st': 4107, 'asleep': 263, 'cynical': 1050, 'questionable': 3453, 'charismatic': 709, 'crying': 1030, 'arnold': 240, 'dean': 1092, 'tortured': 4512, 'threatening': 4448, 'fatal': 1607, 'occur': 3031, 'instant': 2250, 'access': 24, 'heading': 2004, 'ingredients': 2234, 'undoubtedly': 4638, 'closing': 807, 'trilogy': 4574, 'suffered': 4249, 'wounded': 4958, 'performs': 3197, 'definite': 1114, 'gag': 1804, 'false': 1584, 'snake': 4009, 'loyal': 2621, 'lynch': 2632, 'walken': 4769, 'nowadays': 3007, 'amy': 166, 'unfunny': 4647, 'chased': 716, 'commander': 849, 'caused': 668, 'mayor': 2719, 'panic': 3138, 'pie': 3235, 'disappoint': 1221, 'documentaries': 1255, 'thin': 4427, 'sloppy': 3997, 'eccentric': 1357, 'heartbreaking': 2011, 'defense': 1112, 'crucial': 1023, 'classes': 780, 'authentic': 301, 'collection': 823, 'motives': 2857, 'fitting': 1683, 'intelligent': 2258, 'hysterical': 2156, 'crawford': 990, 'dramatic': 1292, 'herebr': 2034, 'shadow': 3883, 'racial': 3467, 'existed': 1516, 'african': 85, 'groups': 1922, 'christmas': 754, 'wave': 4811, 'june': 2378, 'initial': 2235, 'response': 3623, 'purchased': 3435, 'succeeded': 4236, 'merely': 2757, 'macy': 2636, 'stiff': 4159, 'failing': 1571, 'hart': 1986, 'laura': 2482, 'grows': 1926, 'nick': 2958, 'pleased': 3268, 'advertising': 73, 'commercials': 855, 'marketing': 2682, 'buck': 548, 'spirits': 4083, 'warn': 4788, 'throws': 4462, 'rogers': 3689, 'introduce': 2280, 'survival': 4293, 'decision': 1103, 'education': 1367, 'tribute': 4569, 'wouldve': 4956, 'grasp': 1900, 'hoped': 2105, 'scott': 3794, 'behaviour': 388, 'humble': 2140, 'errors': 1461, 'enjoyment': 1433, 'afternoon': 87, 'pun': 3428, 'superbly': 4270, 'movement': 2864, 'cared': 628, 'scenebr': 3779, 'broadway': 535, 'homage': 2092, 'speaking': 4065, 'claude': 784, 'models': 2825, 'watchbr': 4804, 'hair': 1951, 'gentleman': 1832, 'rise': 3667, 'upper': 4676, 'sullivan': 4260, 'wall': 4773, 'buddies': 550, 'goofy': 1878, 'inventive': 2285, 'derek': 1142, 'bo': 463, 'wet': 4851, 'frequently': 1775, 'lisa': 2558, 'graham': 1892, 'storybr': 4178, 'carl': 635, 'realizes': 3518, 'el': 1383, 'spiritual': 4084, 'watches': 4806, 'carmen': 636, 'truck': 4584, 'neil': 2943, 'fancy': 1592, 'unfold': 4642, 'storytelling': 4180, 'underlying': 4629, 'result': 3628, 'frame': 1757, 'succeeds': 4237, 'straightforward': 4182, 'effectively': 1373, 'dickens': 1187, 'dylan': 1337, 'baker': 327, 'psychiatrist': 3417, 'cia': 758, 'roger': 3688, 'perry': 3200, 'reputation': 3609, 'poverty': 3316, 'claimed': 775, 'spending': 4076, 'smoke': 4006, 'online': 3067, 'neighborhood': 2941, 'boot': 480, 'metal': 2765, 'praise': 3323, 'join': 2356, 'slasher': 3988, 'ken': 2398, 'burns': 570, 'pitch': 3241, 'poetic': 3276, 'heroic': 2038, 'honesty': 2098, 'emotionally': 1404, 'doors': 1273, 'occurs': 3033, 'bridges': 521, 'walks': 4772, 'sky': 3985, 'projects': 3391, 'poster': 3313, 'differences': 1195, 'chinese': 743, 'sounding': 4051, 'teachers': 4348, 'countless': 968, 'confess': 893, 'predator': 3326, 'realise': 3512, 'strictly': 4195, 'hunting': 2150, 'thick': 4425, 'edgy': 1362, 'shocked': 3910, 'worry': 4946, 'trained': 4543, 'tommy': 4497, 'stanley': 4119, 'alan': 113, 'suitable': 4257, 'blew': 448, 'lab': 2447, 'radio': 3470, 'nomination': 2973, 'sadness': 3736, 'ward': 4785, 'sixties': 3979, 'peak': 3180, 'proved': 3409, 'sandra': 3749, 'disagree': 1217, 'san': 3746, 'francisco': 1761, 'arrested': 242, 'scores': 3793, 'virtually': 4742, 'credible': 1004, 'tender': 4375, 'types': 4613, 'glimpse': 1859, 'exaggerated': 1497, 'wins': 4895, 'provoking': 3415, 'loose': 2593, 'hundreds': 2145, 'contrived': 932, 'vaguely': 4696, 'fonda': 1719, 'hollywoods': 2088, 'resort': 3619, 'horribly': 2113, 'combination': 832, 'beating': 366, 'worried': 4945, 'tastes': 4341, 'soccer': 4015, 'diane': 1185, 'illness': 2177, 'sensitive': 3850, 'andrews': 173, 'smooth': 4008, 'covers': 980, 'larger': 2466, 'solution': 4027, 'logical': 2581, 'subplots': 4229, 'mix': 2818, 'oil': 3053, 'lover': 2613, 'families': 1587, 'primarily': 3357, 'versions': 4712, 'camerawork': 602, 'color': 826, 'uneven': 4639, 'muchbr': 2878, 'rebel': 3526, 'teen': 4362, 'arguably': 233, 'inspector': 2244, 'extent': 1551, 'screams': 3798, 'jerk': 2338, 'nonsensical': 2979, 'ears': 1344, 'serve': 3863, 'horrendous': 2111, 'scenesbr': 3782, 'performers': 3195, 'workbr': 4935, 'julia': 2372, 'medical': 2732, 'relative': 3565, 'compelled': 868, 'amanda': 150, 'needless': 2937, 'charming': 714, 'neighbor': 2940, 'progresses': 3389, 'aunt': 295, 'prepare': 3333, 'valuable': 4698, 'proceeds': 3374, 'scarecrow': 3772, 'rental': 3595, 'japan': 2326, 'object': 3019, 'virus': 4743, 'nuclear': 3010, 'carrying': 645, 'command': 848, 'checked': 724, 'suspicious': 4303, 'judy': 2371, 'abused': 15, 'suck': 4242, 'travesty': 4556, 'britain': 531, 'troma': 4580, 'lloyd': 2572, 'johnny': 2354, 'contract': 929, 'tunes': 4592, 'dick': 1186, 'glorious': 1861, 'buster': 576, 'subjects': 4227, 'category': 662, 'roy': 3709, 'award': 309, 'companion': 862, 'individual': 2224, 'adam': 51, 'ideal': 2161, 'headed': 2003, 'holmes': 2089, 'julie': 2373, 'gold': 1871, 'musicals': 2893, 'flop': 1702, 'remarkably': 3583, 'someones': 4033, 'hudson': 2133, 'proceedings': 3373, 'sing': 3961, 'forest': 1733, 'desperation': 1159, 'germany': 1838, 'museum': 2890, 'franco': 1762, 'vietnam': 4726, 'specifically': 4070, 'spanish': 4062, 'carried': 642, 'spain': 4061, 'household': 2128, 'vincent': 4737, 'attempted': 283, 'jeffrey': 2335, 'seldom': 3840, 'schools': 3785, 'loser': 2598, 'pleasant': 3265, 'harold': 1982, 'overrated': 3114, 'dozens': 1283, 'victoria': 4723, 'exercise': 1514, 'endearing': 1414, 'peoplebr': 3184, 'presentation': 3337, 'disappeared': 1219, 'bobby': 467, 'punishment': 3430, 'endure': 1420, 'unfair': 4641, 'vicious': 4719, 'satisfy': 3757, 'lights': 2541, 'occasionally': 3030, 'obscure': 3023, 'lifestyle': 2536, 'composed': 879, 'utter': 4692, 'hanks': 1969, 'understated': 4634, 'hoffman': 2077, 'non': 2974, 'succeed': 4235, 'advanced': 69, 'dollar': 1263, 'outcome': 3100, 'troops': 4581, 'soviet': 4057, 'meaningful': 2723, 'eva': 1476, 'catholic': 664, 'hitch': 2070, 'superficial': 4271, 'glover': 1863, 'theory': 4414, 'eastern': 1350, 'passing': 3163, 'photographer': 3222, 'wasting': 4801, 'dragged': 1287, 'trap': 4549, 'sisters': 3970, 'trio': 4575, 'placed': 3246, 'bugs': 555, 'consistently': 910, 'laid': 2454, 'inevitable': 2228, 'climactic': 795, 'timing': 4479, 'seeks': 3830, 'feelings': 1628, 'diamond': 1183, 'ties': 4470, 'pool': 3287, 'biography': 425, 'starred': 4124, 'medium': 2734, 'alike': 127, 'standout': 4117, 'branagh': 507, 'commented': 852, 'saves': 3763, 'escapes': 1464, 'lasted': 2469, 'jazz': 2331, 'wake': 4766, 'understood': 4635, 'nancy': 2910, 'burned': 568, 'armed': 237, 'dynamic': 1338, 'duo': 1329, 'dirty': 1216, 'creativity': 999, 'annie': 191, 'trademark': 4533, 'successfully': 4240, 'leslie': 2517, 'decades': 1098, 'instance': 2249, 'ships': 3906, 'horrifying': 2116, 'jerry': 2339, 'fighter': 1646, 'rolled': 3693, 'satan': 3754, 'duke': 1326, 'stops': 4173, 'display': 1241, 'figures': 1651, 'disc': 1227, 'ross': 3703, 'opinions': 3078, 'handed': 1961, 'deserved': 1150, 'march': 2674, 'freeman': 1772, 'controversial': 934, 'morebr': 2845, 'bothered': 492, 'angels': 178, 'contest': 923, 'catchy': 661, 'vampires': 4702, 'curse': 1042, 'kiss': 2428, 'embarrassing': 1398, 'betterbr': 414, 'hitler': 2073, 'chief': 734, 'occasion': 3028, 'bath': 352, 'crossing': 1021, 'lips': 2557, 'teams': 4352, 'charactersbr': 706, 'copies': 948, 'appearances': 219, 'package': 3126, 'discuss': 1233, 'coffee': 818, 'explosions': 1543, 'hook': 2102, 'parties': 3153, 'enormous': 1435, 'cabin': 585, 'cannibal': 612, 'vague': 4695, 'devoid': 1177, 'birth': 428, 'celebrity': 673, 'developing': 1172, 'fortune': 1748, 'conceived': 883, 'mouse': 2860, 'triangle': 4567, 'convince': 939, 'testament': 4391, 'cole': 821, 'partner': 3155, 'reasonable': 3523, 'passes': 3162, 'dimension': 1201, 'suited': 4258, 'wannabe': 4779, 'pretend': 3344, 'complain': 872, 'afford': 81, 'basis': 349, 'ensemble': 1437, 'heist': 2020, 'damme': 1055, 'columbo': 830, 'aforementioned': 82, 'thomas': 4437, 'lowbudget': 2618, 'hunter': 2148, 'tree': 4562, 'loosely': 2594, 'reactions': 3506, 'poetry': 3277, 'surrounded': 4291, 'dutch': 1332, 'likewise': 2547, 'dating': 1075, 'hip': 2062, 'menacing': 2749, 'generic': 1826, 'sinatra': 3958, 'ernest': 1459, 'marty': 2692, 'refused': 3552, 'jesse': 2340, 'witnesses': 4911, 'pearl': 3181, 'diehard': 1192, 'carefully': 632, 'softcore': 4019, 'intrigued': 2278, 'ad': 50, 'caine': 589, 'slave': 3989, 'blond': 452, 'dinosaur': 1204, 'broad': 533, 'brando': 509, 'phrase': 3225, 'womens': 4918, 'designed': 1153, 'flies': 1698, 'maniac': 2667, 'passable': 3159, 'agreed': 100, 'christian': 753, 'kyle': 2445, 'witnessed': 4910, 'urge': 4680, 'allowing': 134, 'cancer': 610, 'progress': 3388, 'gifted': 1847, 'mickey': 2774, 'penn': 3182, 'rd': 3499, 'da': 1051, 'reasonably': 3524, 'wells': 4842, 'recorded': 3539, 'survived': 4295, 'bullet': 562, 'engage': 1424, 'rap': 3484, 'sandler': 3748, 'mars': 2687, 'couples': 973, 'revelation': 3642, 'fairy': 1576, 'intentions': 2265, 'sidney': 3939, 'colin': 822, 'flash': 1687, 'raped': 3486, 'species': 4068, 'spacey': 4059, 'bears': 362, 'resemblance': 3615, 'folk': 1712, 'lone': 2584, 'dennis': 1130, 'relevant': 3571, 'obsessed': 3024, 'providing': 3414, 'nd': 2926, 'buildings': 558, 'simpsons': 3955, 'dracula': 1285, 'symbolism': 4311, 'issue': 2308, 'rocket': 3685, 'christ': 752, 'inappropriate': 2205, 'steel': 4145, 'president': 3340, 'wacky': 4761, 'angela': 176, 'comparing': 866, 'greatness': 1908, 'urban': 4679, 'cruelty': 1026, 'doomed': 1271, 'pants': 3139, 'alongside': 140, 'lyrics': 2633, 'correctly': 957, 'funnier': 1795, 'demand': 1126, 'adaptations': 54, 'robbins': 3677, 'reflection': 3550, 'wes': 4847, 'cringe': 1014, 'key': 2403, 'duty': 1333, 'inferior': 2230, 'letters': 2525, 'executive': 1513, 'generous': 1827, 'jet': 2343, 'argue': 234, 'conflicts': 895, 'traffic': 4536, 'diana': 1184, 'university': 4659, 'affairs': 77, 'properly': 3400, 'picks': 3232, 'nightmares': 2962, 'tarantino': 4336, 'lucas': 2622, 'solo': 4026, 'phantom': 3212, 'stinks': 4163, 'loaded': 2574, 'accused': 32, 'germans': 1837, 'jeff': 2334, 'admire': 62, 'built': 560, 'detailed': 1166, 'dragon': 1288, 'emperor': 1406, 'legend': 2508, 'frankie': 1765, 'aaron': 0, 'gray': 1903, 'backgrounds': 322, 'warmth': 4787, 'prince': 3360, 'joined': 2357, 'borrowed': 488, 'heartwarming': 2013, 'duck': 1323, 'broadcast': 534, 'onedimensional': 3064, 'messed': 2763, 'nose': 2988, 'reel': 3546, 'searching': 3812, 'thoughtprovoking': 4443, 'sbr': 3769, 'tricks': 4571, 'sheriff': 3900, 'rick': 3654, 'turkish': 4594, 'pressure': 3342, 'global': 1860, 'stan': 4112, 'chaos': 699, 'comedians': 837, 'dave': 1078, 'miller': 2787, 'relation': 3561, 'complaining': 873, 'splendid': 4087, 'uninspired': 4649, 'timeless': 4476, 'culture': 1035, 'blues': 461, 'watson': 4810, 'parent': 3144, 'khan': 2404, 'fashioned': 1603, 'carrie': 641, 'countryside': 971, 'partly': 3154, 'brutally': 547, 'dinner': 1203, 'anderson': 170, 'stranger': 4186, 'colonel': 825, 'possibility': 3309, 'craft': 984, 'rocks': 3686, 'crafted': 985, 'acceptable': 22, 'staged': 4110, 'financial': 1666, 'knife': 2431, 'gus': 1943, 'elephant': 1390, 'tracking': 4529, 'higher': 2048, 'prisoner': 3366, 'cutting': 1049, 'displayed': 1242, 'cards': 626, 'angel': 175, 'husbands': 2154, 'reaction': 3505, 'mate': 2707, 'forms': 1743, 'idiots': 2167, 'dubbing': 1322, 'stealing': 4143, 'shed': 3895, 'measure': 2728, 'hugh': 2135, 'guarantee': 1929, 'spite': 4085, 'source': 4054, 'defend': 1111, 'composer': 880, 'jeremy': 2337, 'scarlett': 3775, 'mansion': 2672, 'photos': 3224, 'ashamed': 256, 'cowboy': 981, 'dvds': 1335, 'shoes': 3912, 'narrator': 2913, 'hunters': 2149, 'forbidden': 1727, 'jessica': 2341, 'maria': 2676, 'mentions': 2755, 'chapter': 701, 'minimal': 2796, 'inane': 2204, 'reunion': 3637, 'wax': 4813, 'ellen': 1392, 'tales': 4327, 'rising': 3668, 'alcohol': 118, 'baldwin': 329, 'satisfied': 3756, 'cleverly': 789, 'machines': 2635, 'description': 1147, 'resist': 3617, 'cannon': 613, 'bernard': 408, 'bruno': 545, 'tribe': 4568, 'resembles': 3616, 'shine': 3902, 'exploration': 1539, 'spring': 4103, 'cream': 992, 'frankenstein': 1764, 'manipulative': 2668, 'uplifting': 4674, 'mm': 2821, 'shirt': 3908, 'wives': 4913, 'striking': 4198, 'marie': 2677, 'taylor': 4344, 'bang': 334, 'swedish': 4306, 'taught': 4342, 'bands': 333, 'manhattan': 2666, 'transfer': 4545, 'campy': 606, 'florida': 1703, 'owner': 3119, 'cats': 665, 'eitherbr': 1382, 'useless': 4686, 'niro': 2966, 'elaborate': 1384, 'rita': 3670, 'sue': 4247, 'typically': 4615, 'catches': 659, 'beliefs': 393, 'houses': 2129, 'cinderella': 759, 'murphy': 2888, 'considerable': 906, 'vegas': 4707, 'lol': 2582, 'trashy': 4552, 'priceless': 3354, 'magazine': 2643, 'emma': 1401, 'april': 228, 'snakes': 4010, 'comfort': 842, 'valley': 4697, 'fever': 1638, 'madonna': 2641, 'transformation': 4546, 'sand': 3747, 'fed': 1625, 'secretary': 3821, 'official': 3050, 'hollow': 2085, 'objective': 3020, 'childish': 737, 'depicts': 1136, 'carradine': 639, 'ireland': 2295, 'funnybr': 1798, 'cinemas': 761, 'venice': 4710, 'wound': 4957, 'lust': 2630, 'simultaneously': 3956, 'conservative': 904, 'nicholson': 2957, 'lincoln': 2551, 'lively': 2569, 'enjoys': 1434, 'austin': 298, 'fingers': 1673, 'pays': 3178, 'assault': 268, 'morris': 2849, 'noise': 2971, 'che': 719, 'peters': 3211, 'philosophical': 3216, 'cassavetes': 653, 'react': 3504, 'funeral': 1794, 'spielberg': 4079, 'kubrick': 2441, 'couldve': 966, 'cup': 1036, 'superhero': 4272, 'commit': 856, 'bone': 475, 'redemption': 3543, 'hung': 2146, 'wishing': 4902, 'matches': 2706, 'conversations': 937, 'thru': 4463, 'styles': 4223, 'promises': 3395, 'grandmother': 1895, 'prom': 3392, 'blah': 438, 'rubber': 3711, 'inner': 2237, 'indians': 2222, 'occurred': 3032, 'cheated': 721, 'lucy': 2626, 'widow': 4876, 'facing': 1564, 'territory': 4385, 'plant': 3256, 'childs': 740, 'sexuality': 3880, 'saga': 3739, 'todd': 4492, 'distracting': 1247, 'wagon': 4762, 'deranged': 1141, 'challenged': 688, 'faster': 1605, 'grab': 1888, 'pops': 3292, 'generations': 1825, 'discovering': 1230, 'thugs': 4464, 'tyler': 4611, 'sung': 4266, 'capturing': 622, 'antonio': 199, 'streisand': 4191, 'ruth': 3729, 'bell': 399, 'apocalypse': 211, 'von': 4756, 'meat': 2729, 'lowest': 2620, 'twin': 4605, 'wished': 4900, 'les': 2515, 'cagney': 588, 'mountains': 2859, 'wallace': 4774, 'josh': 2364, 'earned': 1343, 'noone': 2981, 'ranger': 3481, 'wolf': 4914, 'ninja': 2965, 'apes': 210, 'settle': 3871, 'punk': 3431, 'neighbors': 2942, 'felix': 1631, 'corporate': 954, 'bourne': 497, 'muppet': 2882, 'mummy': 2880, 'wisdom': 4897, 'twins': 4606, 'underwater': 4636, 'titanic': 4484, 'abc': 2, 'garfield': 1814}\n"
          ]
        }
      ]
    },
    {
      "cell_type": "code",
      "source": [
        "from sklearn import model_selection, svm\n",
        "from sklearn.metrics import accuracy_score\n",
        "from sklearn.metrics import classification_report\n",
        "\n",
        "SVM = svm.SVC(C=10, kernel='linear', gamma='auto')\n",
        "SVM.fit(Train_X_Tfidf,y_train)\n",
        "predictions_SVM = SVM.predict(Test_X_Tfidf)\n",
        "print(\"SVM Accuracy Score -> \",accuracy_score(predictions_SVM, y_test)*100)"
      ],
      "metadata": {
        "colab": {
          "base_uri": "https://localhost:8080/"
        },
        "id": "O-RCabGtfvrD",
        "outputId": "bed91131-cc5b-4cc4-cfbe-f293b008fc11"
      },
      "execution_count": null,
      "outputs": [
        {
          "output_type": "stream",
          "name": "stdout",
          "text": [
            "SVM Accuracy Score ->  87.49\n"
          ]
        }
      ]
    },
    {
      "cell_type": "code",
      "source": [
        "print(classification_report(y_test, predictions_SVM))"
      ],
      "metadata": {
        "colab": {
          "base_uri": "https://localhost:8080/"
        },
        "id": "LHyYZA7OmsIk",
        "outputId": "cc60dff2-cb9c-4bb1-d31c-f2489b208c7b"
      },
      "execution_count": null,
      "outputs": [
        {
          "output_type": "stream",
          "name": "stdout",
          "text": [
            "              precision    recall  f1-score   support\n",
            "\n",
            "           0       0.88      0.87      0.87      5035\n",
            "           1       0.87      0.88      0.87      4965\n",
            "\n",
            "    accuracy                           0.87     10000\n",
            "   macro avg       0.87      0.87      0.87     10000\n",
            "weighted avg       0.87      0.87      0.87     10000\n",
            "\n"
          ]
        }
      ]
    }
  ]
}